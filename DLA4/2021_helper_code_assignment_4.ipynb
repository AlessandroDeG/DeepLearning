{
  "nbformat": 4,
  "nbformat_minor": 0,
  "metadata": {
    "colab": {
      "name": "2021_helper_code_assignment_4.ipynb",
      "provenance": []
    },
    "kernelspec": {
      "display_name": "Python 3",
      "language": "python",
      "name": "python3"
    },
    "language_info": {
      "codemirror_mode": {
        "name": "ipython",
        "version": 3
      },
      "file_extension": ".py",
      "mimetype": "text/x-python",
      "name": "python",
      "nbconvert_exporter": "python",
      "pygments_lexer": "ipython3",
      "version": "3.7.6"
    },
    "accelerator": "GPU"
  },
  "cells": [
    {
      "cell_type": "code",
      "metadata": {
        "id": "PxlI-1V0VyYJ"
      },
      "source": [
        "import os\n",
        "import math\n",
        "import time\n",
        "from tqdm import tqdm\n",
        "\n",
        "import torch\n",
        "import torch.nn as nn"
      ],
      "execution_count": 1,
      "outputs": []
    },
    {
      "cell_type": "code",
      "metadata": {
        "id": "QE2d0XWuV8D6"
      },
      "source": [
        "from torch.utils.data import Dataset\n",
        "\n",
        "\n",
        "class Vocabulary:\n",
        "\n",
        "    def __init__(self, pad_token=\"<pad>\", unk_token='<unk>', eos_token='<eos>',\n",
        "                 sos_token='<sos>'):\n",
        "        self.id_to_string = {}\n",
        "        self.string_to_id = {}\n",
        "        \n",
        "        # add the default pad token\n",
        "        self.id_to_string[0] = pad_token\n",
        "        self.string_to_id[pad_token] = 0\n",
        "        \n",
        "        # add the default unknown token\n",
        "        self.id_to_string[1] = unk_token\n",
        "        self.string_to_id[unk_token] = 1\n",
        "        \n",
        "        # add the default unknown token\n",
        "        self.id_to_string[2] = eos_token\n",
        "        self.string_to_id[eos_token] = 2   \n",
        "\n",
        "        # add the default unknown token\n",
        "        self.id_to_string[3] = sos_token\n",
        "        self.string_to_id[sos_token] = 3\n",
        "\n",
        "        # shortcut access\n",
        "        self.pad_id = 0\n",
        "        self.unk_id = 1\n",
        "        self.eos_id = 2\n",
        "        self.sos_id = 3\n",
        "\n",
        "    def __len__(self):\n",
        "        return len(self.id_to_string)\n",
        "\n",
        "    def add_new_word(self, string):\n",
        "        self.string_to_id[string] = len(self.string_to_id)\n",
        "        self.id_to_string[len(self.id_to_string)] = string\n",
        "\n",
        "    # Given a string, return ID\n",
        "    # if extend_vocab is True, add the new word\n",
        "    def get_idx(self, string, extend_vocab=False):\n",
        "        if string in self.string_to_id:\n",
        "            return self.string_to_id[string]\n",
        "        elif extend_vocab:  # add the new word\n",
        "            self.add_new_word(string)\n",
        "            return self.string_to_id[string]\n",
        "        else:\n",
        "            return self.unk_id\n",
        "\n",
        "\n",
        "# Read the raw txt files and generate parallel text dataset:\n",
        "# self.data[idx][0] is the tensor of source sequence\n",
        "# self.data[idx][1] is the tensor of target sequence\n",
        "# See examples in the cell below.\n",
        "class ParallelTextDataset(Dataset):\n",
        "\n",
        "    def __init__(self, src_file_path, tgt_file_path, src_vocab=None,\n",
        "                 tgt_vocab=None, extend_vocab=False, device='cuda'):\n",
        "        (self.data, self.src_vocab, self.tgt_vocab, self.src_max_seq_length,\n",
        "         self.tgt_max_seq_length) = self.parallel_text_to_data(\n",
        "            src_file_path, tgt_file_path, src_vocab, tgt_vocab, extend_vocab,\n",
        "            device)\n",
        "\n",
        "    def __getitem__(self, idx):\n",
        "        return self.data[idx]\n",
        "\n",
        "    def __len__(self):\n",
        "        return len(self.data)\n",
        "\n",
        "    def parallel_text_to_data(self, src_file, tgt_file, src_vocab=None,\n",
        "                              tgt_vocab=None, extend_vocab=False,\n",
        "                              device='cuda'):\n",
        "        # Convert paired src/tgt texts into torch.tensor data.\n",
        "        # All sequences are padded to the length of the longest sequence\n",
        "        # of the respective file.\n",
        "\n",
        "        assert os.path.exists(src_file)\n",
        "        assert os.path.exists(tgt_file)\n",
        "\n",
        "        if src_vocab is None:\n",
        "            src_vocab = Vocabulary()\n",
        "\n",
        "        if tgt_vocab is None:\n",
        "            tgt_vocab = Vocabulary()\n",
        "        \n",
        "        data_list = []\n",
        "        # Check the max length, if needed construct vocab file.\n",
        "        src_max = 0\n",
        "        with open(src_file, 'r') as text:\n",
        "            for line in text:\n",
        "                tokens = list(line)[:-1]  # remove line break\n",
        "                length = len(tokens)\n",
        "                if src_max < length:\n",
        "                    src_max = length\n",
        "\n",
        "        tgt_max = 0\n",
        "        with open(tgt_file, 'r') as text:\n",
        "            for line in text:\n",
        "                tokens = list(line)[:-1]\n",
        "                length = len(tokens)\n",
        "                if tgt_max < length:\n",
        "                    tgt_max = length\n",
        "        tgt_max += 2  # add for begin/end tokens\n",
        "                    \n",
        "        src_pad_idx = src_vocab.pad_id\n",
        "        tgt_pad_idx = tgt_vocab.pad_id\n",
        "\n",
        "        tgt_eos_idx = tgt_vocab.eos_id\n",
        "        tgt_sos_idx = tgt_vocab.sos_id\n",
        "\n",
        "        # Construct data\n",
        "        src_list = []\n",
        "        print(f\"Loading source file from: {src_file}\")\n",
        "        with open(src_file, 'r') as text:\n",
        "            for line in tqdm(text):\n",
        "                seq = []\n",
        "                tokens = list(line)[:-1]\n",
        "                for token in tokens:\n",
        "                    seq.append(src_vocab.get_idx(\n",
        "                        token, extend_vocab=extend_vocab))\n",
        "                var_len = len(seq)\n",
        "                var_seq = torch.tensor(seq, device=device, dtype=torch.int64)\n",
        "                # padding\n",
        "                new_seq = var_seq.data.new(src_max).fill_(src_pad_idx)\n",
        "                new_seq[:var_len] = var_seq\n",
        "                src_list.append(new_seq)\n",
        "\n",
        "        tgt_list = []\n",
        "        print(f\"Loading target file from: {tgt_file}\")\n",
        "        with open(tgt_file, 'r') as text:\n",
        "            for line in tqdm(text):\n",
        "                seq = []\n",
        "                tokens = list(line)[:-1]\n",
        "                # append a start token\n",
        "                seq.append(tgt_sos_idx)\n",
        "                for token in tokens:\n",
        "                    seq.append(tgt_vocab.get_idx(\n",
        "                        token, extend_vocab=extend_vocab))\n",
        "                # append an end token\n",
        "                seq.append(tgt_eos_idx)\n",
        "\n",
        "                var_len = len(seq)\n",
        "                var_seq = torch.tensor(seq, device=device, dtype=torch.int64)\n",
        "\n",
        "                # padding\n",
        "                new_seq = var_seq.data.new(tgt_max).fill_(tgt_pad_idx)\n",
        "                new_seq[:var_len] = var_seq\n",
        "                tgt_list.append(new_seq)\n",
        "\n",
        "        # src_file and tgt_file are assumed to be aligned.\n",
        "        assert len(src_list) == len(tgt_list)\n",
        "        for i in range(len(src_list)):\n",
        "            data_list.append((src_list[i], tgt_list[i]))\n",
        "\n",
        "        print(\"Done.\")\n",
        "            \n",
        "        return data_list, src_vocab, tgt_vocab, src_max, tgt_max\n"
      ],
      "execution_count": 13,
      "outputs": []
    },
    {
      "cell_type": "code",
      "metadata": {
        "id": "pcCsa2x3TGcH"
      },
      "source": [
        "# !mkdir numbers__place_value"
      ],
      "execution_count": 3,
      "outputs": []
    },
    {
      "cell_type": "code",
      "metadata": {
        "colab": {
          "base_uri": "https://localhost:8080/"
        },
        "id": "cDswlNAQyuHB",
        "outputId": "2ce64ae0-6c87-4dc1-98b6-4c6f9b2bed35"
      },
      "source": [
        "# `DATASET_DIR` should be modified to the directory where you downloaded\n",
        "# the dataset. On Colab, use any method you like to access the data\n",
        "# e.g. upload directly or access from Drive, ...\n",
        "\n",
        "DATASET_DIR = \"/content/\"\n",
        "\n",
        "TRAIN_FILE_NAME = \"train\"\n",
        "VALID_FILE_NAME = \"interpolate\"\n",
        "\n",
        "INPUTS_FILE_ENDING = \".x\"\n",
        "TARGETS_FILE_ENDING = \".y\"\n",
        "\n",
        "TASK = \"numbers__place_value\"\n",
        "# TASK = \"comparison__sort\"\n",
        "# TASK = \"algebra__linear_1d\"\n",
        "\n",
        "# Adapt the paths!\n",
        "\n",
        "src_file_path = f\"{DATASET_DIR}/{TASK}/{TRAIN_FILE_NAME}{INPUTS_FILE_ENDING}\"\n",
        "tgt_file_path = f\"{DATASET_DIR}/{TASK}/{TRAIN_FILE_NAME}{TARGETS_FILE_ENDING}\"\n",
        "\n",
        "train_set = ParallelTextDataset(src_file_path, tgt_file_path, extend_vocab=True)\n",
        "\n",
        "# get the vocab\n",
        "src_vocab = train_set.src_vocab\n",
        "tgt_vocab = train_set.tgt_vocab\n",
        "\n",
        "src_file_path = f\"{DATASET_DIR}/{TASK}/{VALID_FILE_NAME}{INPUTS_FILE_ENDING}\"\n",
        "tgt_file_path = f\"{DATASET_DIR}/{TASK}/{VALID_FILE_NAME}{TARGETS_FILE_ENDING}\"\n",
        "\n",
        "valid_set = ParallelTextDataset(\n",
        "    src_file_path, tgt_file_path, src_vocab=src_vocab, tgt_vocab=tgt_vocab,\n",
        "    extend_vocab=False)"
      ],
      "execution_count": 14,
      "outputs": [
        {
          "output_type": "stream",
          "name": "stdout",
          "text": [
            "Loading source file from: /content//numbers__place_value/train.x\n"
          ]
        },
        {
          "output_type": "stream",
          "name": "stderr",
          "text": [
            "1999998it [03:45, 8865.58it/s]\n"
          ]
        },
        {
          "output_type": "stream",
          "name": "stdout",
          "text": [
            "Loading target file from: /content//numbers__place_value/train.y\n"
          ]
        },
        {
          "output_type": "stream",
          "name": "stderr",
          "text": [
            "1999998it [02:52, 11598.91it/s]\n"
          ]
        },
        {
          "output_type": "stream",
          "name": "stdout",
          "text": [
            "Done.\n",
            "Loading source file from: /content//numbers__place_value/interpolate.x\n"
          ]
        },
        {
          "output_type": "stream",
          "name": "stderr",
          "text": [
            "10000it [00:01, 8977.88it/s]\n"
          ]
        },
        {
          "output_type": "stream",
          "name": "stdout",
          "text": [
            "Loading target file from: /content//numbers__place_value/interpolate.y\n"
          ]
        },
        {
          "output_type": "stream",
          "name": "stderr",
          "text": [
            "10000it [00:00, 11592.21it/s]"
          ]
        },
        {
          "output_type": "stream",
          "name": "stdout",
          "text": [
            "Done.\n"
          ]
        },
        {
          "output_type": "stream",
          "name": "stderr",
          "text": [
            "\n"
          ]
        }
      ]
    },
    {
      "cell_type": "code",
      "metadata": {
        "id": "xuB1K0TAyuHC"
      },
      "source": [
        "from torch.utils.data import DataLoader\n",
        "\n",
        "batch_size = 64\n",
        "\n",
        "train_data_loader = DataLoader(\n",
        "    dataset=train_set, batch_size=batch_size, shuffle=True)\n",
        "\n",
        "valid_data_loader = DataLoader(\n",
        "    dataset=valid_set, batch_size=batch_size, shuffle=False)"
      ],
      "execution_count": 15,
      "outputs": []
    },
    {
      "cell_type": "code",
      "metadata": {
        "colab": {
          "base_uri": "https://localhost:8080/"
        },
        "id": "WkXJ4OljyuHC",
        "outputId": "90b7a8cc-1dcb-4d1d-cfff-8e9f33bff26d"
      },
      "source": [
        "src_vocab.id_to_string"
      ],
      "execution_count": 16,
      "outputs": [
        {
          "output_type": "execute_result",
          "data": {
            "text/plain": [
              "{0: '<pad>',\n",
              " 1: '<unk>',\n",
              " 2: '<eos>',\n",
              " 3: '<sos>',\n",
              " 4: 'W',\n",
              " 5: 'h',\n",
              " 6: 'a',\n",
              " 7: 't',\n",
              " 8: ' ',\n",
              " 9: 'i',\n",
              " 10: 's',\n",
              " 11: 'e',\n",
              " 12: 'u',\n",
              " 13: 'n',\n",
              " 14: 'd',\n",
              " 15: 'r',\n",
              " 16: 'g',\n",
              " 17: 'o',\n",
              " 18: 'f',\n",
              " 19: '3',\n",
              " 20: '1',\n",
              " 21: '2',\n",
              " 22: '5',\n",
              " 23: '?',\n",
              " 24: '8',\n",
              " 25: '9',\n",
              " 26: '6',\n",
              " 27: '7',\n",
              " 28: '4',\n",
              " 29: '0',\n",
              " 30: 'm',\n",
              " 31: 'l',\n",
              " 32: 'b'}"
            ]
          },
          "metadata": {},
          "execution_count": 16
        }
      ]
    },
    {
      "cell_type": "code",
      "metadata": {
        "colab": {
          "base_uri": "https://localhost:8080/"
        },
        "id": "JHCn5Gm4yuHC",
        "outputId": "64a3caee-078c-4ff6-eb04-a35d1928b9a2"
      },
      "source": [
        "tgt_vocab.id_to_string"
      ],
      "execution_count": 17,
      "outputs": [
        {
          "output_type": "execute_result",
          "data": {
            "text/plain": [
              "{0: '<pad>',\n",
              " 1: '<unk>',\n",
              " 2: '<eos>',\n",
              " 3: '<sos>',\n",
              " 4: '2',\n",
              " 5: '6',\n",
              " 6: '3',\n",
              " 7: '4',\n",
              " 8: '8',\n",
              " 9: '9',\n",
              " 10: '0',\n",
              " 11: '7',\n",
              " 12: '5',\n",
              " 13: '1'}"
            ]
          },
          "metadata": {},
          "execution_count": 17
        }
      ]
    },
    {
      "cell_type": "code",
      "metadata": {
        "colab": {
          "base_uri": "https://localhost:8080/"
        },
        "id": "KSEi8idxVbTY",
        "outputId": "eb59bf22-c3f7-4005-9efe-70320e853b3f"
      },
      "source": [
        "# Example batch\n",
        "batch = next(iter(train_data_loader))\n",
        "\n",
        "source = batch[0]  # source sequence\n",
        "print(source.shape)\n",
        "target = batch[1]  # target sequence\n",
        "print(target.shape)"
      ],
      "execution_count": 18,
      "outputs": [
        {
          "output_type": "stream",
          "name": "stdout",
          "text": [
            "torch.Size([64, 50])\n",
            "torch.Size([64, 3])\n"
          ]
        }
      ]
    },
    {
      "cell_type": "code",
      "metadata": {
        "colab": {
          "base_uri": "https://localhost:8080/"
        },
        "id": "z9deYJNaW75a",
        "outputId": "5e3753fc-71d9-40db-a557-dd273f2b0992"
      },
      "source": [
        "# example source/target pair\n",
        "example_source_sequence = []\n",
        "\n",
        "for i in source[0]:\n",
        "    example_source_sequence.append(src_vocab.id_to_string[i.item()])\n",
        "\n",
        "print(example_source_sequence)\n",
        "\n",
        "print(''.join(example_source_sequence))\n",
        "\n",
        "example_target_sequence = []\n",
        "\n",
        "for i in target[0]:\n",
        "    example_target_sequence.append(tgt_vocab.id_to_string[i.item()])\n",
        "\n",
        "print(example_target_sequence)"
      ],
      "execution_count": 21,
      "outputs": [
        {
          "output_type": "stream",
          "name": "stdout",
          "text": [
            "['W', 'h', 'a', 't', ' ', 'i', 's', ' ', 't', 'h', 'e', ' ', 't', 'e', 'n', 's', ' ', 'd', 'i', 'g', 'i', 't', ' ', 'o', 'f', ' ', '2', '5', '8', '?', '<pad>', '<pad>', '<pad>', '<pad>', '<pad>', '<pad>', '<pad>', '<pad>', '<pad>', '<pad>', '<pad>', '<pad>', '<pad>', '<pad>', '<pad>', '<pad>', '<pad>', '<pad>', '<pad>', '<pad>']\n",
            "What is the tens digit of 258?<pad><pad><pad><pad><pad><pad><pad><pad><pad><pad><pad><pad><pad><pad><pad><pad><pad><pad><pad><pad>\n",
            "['<sos>', '5', '<eos>']\n"
          ]
        }
      ]
    },
    {
      "cell_type": "code",
      "metadata": {
        "id": "Be_GKdRXyuHC"
      },
      "source": [
        "########\n",
        "# Taken from:\n",
        "# https://pytorch.org/tutorials/beginner/transformer_tutorial.html\n",
        "# or also here:\n",
        "# https://github.com/pytorch/examples/blob/master/word_language_model/model.py\n",
        "class PositionalEncoding(nn.Module):\n",
        "\n",
        "    def __init__(self, d_model, dropout=0.0, max_len=5000):\n",
        "        super(PositionalEncoding, self).__init__()\n",
        "        self.dropout = nn.Dropout(p=dropout)\n",
        "        self.max_len = max_len\n",
        "\n",
        "        pe = torch.zeros(max_len, d_model)\n",
        "        position = torch.arange(0, max_len, dtype=torch.float).unsqueeze(1)\n",
        "        div_term = torch.exp(torch.arange(0, d_model, 2).float()\n",
        "                             * (-math.log(10000.0) / d_model))\n",
        "        pe[:, 0::2] = torch.sin(position * div_term)\n",
        "        pe[:, 1::2] = torch.cos(position * div_term)\n",
        "        pe = pe.unsqueeze(0).transpose(0, 1)  # shape (max_len, 1, dim)\n",
        "        self.register_buffer('pe', pe)  # Will not be trained.\n",
        "\n",
        "    def forward(self, x):\n",
        "        \"\"\"Inputs of forward function\n",
        "        Args:\n",
        "            x: the sequence fed to the positional encoder model (required).\n",
        "        Shape:\n",
        "            x: [sequence length, batch size, embed dim]\n",
        "            output: [sequence length, batch size, embed dim]\n",
        "        \"\"\"\n",
        "        assert x.size(0) < self.max_len, (\n",
        "            f\"Too long sequence length: increase `max_len` of pos encoding\")\n",
        "        # shape of x (len, B, dim)\n",
        "        x = x + self.pe[:x.size(0), :]\n",
        "        return self.dropout(x)"
      ],
      "execution_count": 20,
      "outputs": []
    }
  ]
}