{
  "nbformat": 4,
  "nbformat_minor": 0,
  "metadata": {
    "colab": {
      "name": "exercise4_example_solution.ipynb",
      "provenance": [],
      "collapsed_sections": []
    },
    "kernelspec": {
      "name": "python3",
      "display_name": "Python 3"
    },
    "accelerator": "GPU",
    "widgets": {
      "application/vnd.jupyter.widget-state+json": {
        "d1785517c46b45038dcf81fbfa1e2951": {
          "model_module": "@jupyter-widgets/controls",
          "model_name": "HBoxModel",
          "model_module_version": "1.5.0",
          "state": {
            "_view_name": "HBoxView",
            "_dom_classes": [],
            "_model_name": "HBoxModel",
            "_view_module": "@jupyter-widgets/controls",
            "_model_module_version": "1.5.0",
            "_view_count": null,
            "_view_module_version": "1.5.0",
            "box_style": "",
            "layout": "IPY_MODEL_199705faa4b8418da4d06ff1bfdd25de",
            "_model_module": "@jupyter-widgets/controls",
            "children": [
              "IPY_MODEL_9e3f70cfff804fc09e714db0627363b3",
              "IPY_MODEL_d123c45bcefd4b6da86a7440b69e5385",
              "IPY_MODEL_5fb32fa94e64446b847a3282544bf634"
            ]
          }
        },
        "199705faa4b8418da4d06ff1bfdd25de": {
          "model_module": "@jupyter-widgets/base",
          "model_name": "LayoutModel",
          "model_module_version": "1.2.0",
          "state": {
            "_view_name": "LayoutView",
            "grid_template_rows": null,
            "right": null,
            "justify_content": null,
            "_view_module": "@jupyter-widgets/base",
            "overflow": null,
            "_model_module_version": "1.2.0",
            "_view_count": null,
            "flex_flow": null,
            "width": null,
            "min_width": null,
            "border": null,
            "align_items": null,
            "bottom": null,
            "_model_module": "@jupyter-widgets/base",
            "top": null,
            "grid_column": null,
            "overflow_y": null,
            "overflow_x": null,
            "grid_auto_flow": null,
            "grid_area": null,
            "grid_template_columns": null,
            "flex": null,
            "_model_name": "LayoutModel",
            "justify_items": null,
            "grid_row": null,
            "max_height": null,
            "align_content": null,
            "visibility": null,
            "align_self": null,
            "height": null,
            "min_height": null,
            "padding": null,
            "grid_auto_rows": null,
            "grid_gap": null,
            "max_width": null,
            "order": null,
            "_view_module_version": "1.2.0",
            "grid_template_areas": null,
            "object_position": null,
            "object_fit": null,
            "grid_auto_columns": null,
            "margin": null,
            "display": null,
            "left": null
          }
        },
        "9e3f70cfff804fc09e714db0627363b3": {
          "model_module": "@jupyter-widgets/controls",
          "model_name": "HTMLModel",
          "model_module_version": "1.5.0",
          "state": {
            "_view_name": "HTMLView",
            "style": "IPY_MODEL_2601e0e7cfbd44f69fdb23ed2c06416d",
            "_dom_classes": [],
            "description": "",
            "_model_name": "HTMLModel",
            "placeholder": "​",
            "_view_module": "@jupyter-widgets/controls",
            "_model_module_version": "1.5.0",
            "value": "",
            "_view_count": null,
            "_view_module_version": "1.5.0",
            "description_tooltip": null,
            "_model_module": "@jupyter-widgets/controls",
            "layout": "IPY_MODEL_c1659fb8db094ba08921cbb96093458a"
          }
        },
        "d123c45bcefd4b6da86a7440b69e5385": {
          "model_module": "@jupyter-widgets/controls",
          "model_name": "FloatProgressModel",
          "model_module_version": "1.5.0",
          "state": {
            "_view_name": "ProgressView",
            "style": "IPY_MODEL_9c14a4607a204f0d90eb8de112522cf4",
            "_dom_classes": [],
            "description": "",
            "_model_name": "FloatProgressModel",
            "bar_style": "success",
            "max": 9912422,
            "_view_module": "@jupyter-widgets/controls",
            "_model_module_version": "1.5.0",
            "value": 9912422,
            "_view_count": null,
            "_view_module_version": "1.5.0",
            "orientation": "horizontal",
            "min": 0,
            "description_tooltip": null,
            "_model_module": "@jupyter-widgets/controls",
            "layout": "IPY_MODEL_f4869e0b16b04fa2b340fb123922a7e6"
          }
        },
        "5fb32fa94e64446b847a3282544bf634": {
          "model_module": "@jupyter-widgets/controls",
          "model_name": "HTMLModel",
          "model_module_version": "1.5.0",
          "state": {
            "_view_name": "HTMLView",
            "style": "IPY_MODEL_d0377cc0cbac44b5a933751a5a69bc05",
            "_dom_classes": [],
            "description": "",
            "_model_name": "HTMLModel",
            "placeholder": "​",
            "_view_module": "@jupyter-widgets/controls",
            "_model_module_version": "1.5.0",
            "value": " 9913344/? [00:00&lt;00:00, 40949391.09it/s]",
            "_view_count": null,
            "_view_module_version": "1.5.0",
            "description_tooltip": null,
            "_model_module": "@jupyter-widgets/controls",
            "layout": "IPY_MODEL_bafeecaf5f0f401db114cec848c4025d"
          }
        },
        "2601e0e7cfbd44f69fdb23ed2c06416d": {
          "model_module": "@jupyter-widgets/controls",
          "model_name": "DescriptionStyleModel",
          "model_module_version": "1.5.0",
          "state": {
            "_view_name": "StyleView",
            "_model_name": "DescriptionStyleModel",
            "description_width": "",
            "_view_module": "@jupyter-widgets/base",
            "_model_module_version": "1.5.0",
            "_view_count": null,
            "_view_module_version": "1.2.0",
            "_model_module": "@jupyter-widgets/controls"
          }
        },
        "c1659fb8db094ba08921cbb96093458a": {
          "model_module": "@jupyter-widgets/base",
          "model_name": "LayoutModel",
          "model_module_version": "1.2.0",
          "state": {
            "_view_name": "LayoutView",
            "grid_template_rows": null,
            "right": null,
            "justify_content": null,
            "_view_module": "@jupyter-widgets/base",
            "overflow": null,
            "_model_module_version": "1.2.0",
            "_view_count": null,
            "flex_flow": null,
            "width": null,
            "min_width": null,
            "border": null,
            "align_items": null,
            "bottom": null,
            "_model_module": "@jupyter-widgets/base",
            "top": null,
            "grid_column": null,
            "overflow_y": null,
            "overflow_x": null,
            "grid_auto_flow": null,
            "grid_area": null,
            "grid_template_columns": null,
            "flex": null,
            "_model_name": "LayoutModel",
            "justify_items": null,
            "grid_row": null,
            "max_height": null,
            "align_content": null,
            "visibility": null,
            "align_self": null,
            "height": null,
            "min_height": null,
            "padding": null,
            "grid_auto_rows": null,
            "grid_gap": null,
            "max_width": null,
            "order": null,
            "_view_module_version": "1.2.0",
            "grid_template_areas": null,
            "object_position": null,
            "object_fit": null,
            "grid_auto_columns": null,
            "margin": null,
            "display": null,
            "left": null
          }
        },
        "9c14a4607a204f0d90eb8de112522cf4": {
          "model_module": "@jupyter-widgets/controls",
          "model_name": "ProgressStyleModel",
          "model_module_version": "1.5.0",
          "state": {
            "_view_name": "StyleView",
            "_model_name": "ProgressStyleModel",
            "description_width": "",
            "_view_module": "@jupyter-widgets/base",
            "_model_module_version": "1.5.0",
            "_view_count": null,
            "_view_module_version": "1.2.0",
            "bar_color": null,
            "_model_module": "@jupyter-widgets/controls"
          }
        },
        "f4869e0b16b04fa2b340fb123922a7e6": {
          "model_module": "@jupyter-widgets/base",
          "model_name": "LayoutModel",
          "model_module_version": "1.2.0",
          "state": {
            "_view_name": "LayoutView",
            "grid_template_rows": null,
            "right": null,
            "justify_content": null,
            "_view_module": "@jupyter-widgets/base",
            "overflow": null,
            "_model_module_version": "1.2.0",
            "_view_count": null,
            "flex_flow": null,
            "width": null,
            "min_width": null,
            "border": null,
            "align_items": null,
            "bottom": null,
            "_model_module": "@jupyter-widgets/base",
            "top": null,
            "grid_column": null,
            "overflow_y": null,
            "overflow_x": null,
            "grid_auto_flow": null,
            "grid_area": null,
            "grid_template_columns": null,
            "flex": null,
            "_model_name": "LayoutModel",
            "justify_items": null,
            "grid_row": null,
            "max_height": null,
            "align_content": null,
            "visibility": null,
            "align_self": null,
            "height": null,
            "min_height": null,
            "padding": null,
            "grid_auto_rows": null,
            "grid_gap": null,
            "max_width": null,
            "order": null,
            "_view_module_version": "1.2.0",
            "grid_template_areas": null,
            "object_position": null,
            "object_fit": null,
            "grid_auto_columns": null,
            "margin": null,
            "display": null,
            "left": null
          }
        },
        "d0377cc0cbac44b5a933751a5a69bc05": {
          "model_module": "@jupyter-widgets/controls",
          "model_name": "DescriptionStyleModel",
          "model_module_version": "1.5.0",
          "state": {
            "_view_name": "StyleView",
            "_model_name": "DescriptionStyleModel",
            "description_width": "",
            "_view_module": "@jupyter-widgets/base",
            "_model_module_version": "1.5.0",
            "_view_count": null,
            "_view_module_version": "1.2.0",
            "_model_module": "@jupyter-widgets/controls"
          }
        },
        "bafeecaf5f0f401db114cec848c4025d": {
          "model_module": "@jupyter-widgets/base",
          "model_name": "LayoutModel",
          "model_module_version": "1.2.0",
          "state": {
            "_view_name": "LayoutView",
            "grid_template_rows": null,
            "right": null,
            "justify_content": null,
            "_view_module": "@jupyter-widgets/base",
            "overflow": null,
            "_model_module_version": "1.2.0",
            "_view_count": null,
            "flex_flow": null,
            "width": null,
            "min_width": null,
            "border": null,
            "align_items": null,
            "bottom": null,
            "_model_module": "@jupyter-widgets/base",
            "top": null,
            "grid_column": null,
            "overflow_y": null,
            "overflow_x": null,
            "grid_auto_flow": null,
            "grid_area": null,
            "grid_template_columns": null,
            "flex": null,
            "_model_name": "LayoutModel",
            "justify_items": null,
            "grid_row": null,
            "max_height": null,
            "align_content": null,
            "visibility": null,
            "align_self": null,
            "height": null,
            "min_height": null,
            "padding": null,
            "grid_auto_rows": null,
            "grid_gap": null,
            "max_width": null,
            "order": null,
            "_view_module_version": "1.2.0",
            "grid_template_areas": null,
            "object_position": null,
            "object_fit": null,
            "grid_auto_columns": null,
            "margin": null,
            "display": null,
            "left": null
          }
        },
        "fdfea464d0004015889893b4f41ad916": {
          "model_module": "@jupyter-widgets/controls",
          "model_name": "HBoxModel",
          "model_module_version": "1.5.0",
          "state": {
            "_view_name": "HBoxView",
            "_dom_classes": [],
            "_model_name": "HBoxModel",
            "_view_module": "@jupyter-widgets/controls",
            "_model_module_version": "1.5.0",
            "_view_count": null,
            "_view_module_version": "1.5.0",
            "box_style": "",
            "layout": "IPY_MODEL_22587b4ed3f84e96bae73dc03772161a",
            "_model_module": "@jupyter-widgets/controls",
            "children": [
              "IPY_MODEL_bc160e9730d34ee5ab30e3371984618a",
              "IPY_MODEL_8a95138c1dc04a0aa4b89c954bf1bc20",
              "IPY_MODEL_7a5664de234042beabd48735dd80877c"
            ]
          }
        },
        "22587b4ed3f84e96bae73dc03772161a": {
          "model_module": "@jupyter-widgets/base",
          "model_name": "LayoutModel",
          "model_module_version": "1.2.0",
          "state": {
            "_view_name": "LayoutView",
            "grid_template_rows": null,
            "right": null,
            "justify_content": null,
            "_view_module": "@jupyter-widgets/base",
            "overflow": null,
            "_model_module_version": "1.2.0",
            "_view_count": null,
            "flex_flow": null,
            "width": null,
            "min_width": null,
            "border": null,
            "align_items": null,
            "bottom": null,
            "_model_module": "@jupyter-widgets/base",
            "top": null,
            "grid_column": null,
            "overflow_y": null,
            "overflow_x": null,
            "grid_auto_flow": null,
            "grid_area": null,
            "grid_template_columns": null,
            "flex": null,
            "_model_name": "LayoutModel",
            "justify_items": null,
            "grid_row": null,
            "max_height": null,
            "align_content": null,
            "visibility": null,
            "align_self": null,
            "height": null,
            "min_height": null,
            "padding": null,
            "grid_auto_rows": null,
            "grid_gap": null,
            "max_width": null,
            "order": null,
            "_view_module_version": "1.2.0",
            "grid_template_areas": null,
            "object_position": null,
            "object_fit": null,
            "grid_auto_columns": null,
            "margin": null,
            "display": null,
            "left": null
          }
        },
        "bc160e9730d34ee5ab30e3371984618a": {
          "model_module": "@jupyter-widgets/controls",
          "model_name": "HTMLModel",
          "model_module_version": "1.5.0",
          "state": {
            "_view_name": "HTMLView",
            "style": "IPY_MODEL_e4d09ce3d4544edf9a5dacb80d394e4e",
            "_dom_classes": [],
            "description": "",
            "_model_name": "HTMLModel",
            "placeholder": "​",
            "_view_module": "@jupyter-widgets/controls",
            "_model_module_version": "1.5.0",
            "value": "",
            "_view_count": null,
            "_view_module_version": "1.5.0",
            "description_tooltip": null,
            "_model_module": "@jupyter-widgets/controls",
            "layout": "IPY_MODEL_3bab3b7c92ba48b58ee830d968931bcf"
          }
        },
        "8a95138c1dc04a0aa4b89c954bf1bc20": {
          "model_module": "@jupyter-widgets/controls",
          "model_name": "FloatProgressModel",
          "model_module_version": "1.5.0",
          "state": {
            "_view_name": "ProgressView",
            "style": "IPY_MODEL_6c7c1a11149d49d1aa273ccaca1442cb",
            "_dom_classes": [],
            "description": "",
            "_model_name": "FloatProgressModel",
            "bar_style": "success",
            "max": 28881,
            "_view_module": "@jupyter-widgets/controls",
            "_model_module_version": "1.5.0",
            "value": 28881,
            "_view_count": null,
            "_view_module_version": "1.5.0",
            "orientation": "horizontal",
            "min": 0,
            "description_tooltip": null,
            "_model_module": "@jupyter-widgets/controls",
            "layout": "IPY_MODEL_b0c9a8655f104c5ab4a79024dcdfe450"
          }
        },
        "7a5664de234042beabd48735dd80877c": {
          "model_module": "@jupyter-widgets/controls",
          "model_name": "HTMLModel",
          "model_module_version": "1.5.0",
          "state": {
            "_view_name": "HTMLView",
            "style": "IPY_MODEL_83ab3cfca7374562a940ddd4a99038fb",
            "_dom_classes": [],
            "description": "",
            "_model_name": "HTMLModel",
            "placeholder": "​",
            "_view_module": "@jupyter-widgets/controls",
            "_model_module_version": "1.5.0",
            "value": " 29696/? [00:00&lt;00:00, 609006.71it/s]",
            "_view_count": null,
            "_view_module_version": "1.5.0",
            "description_tooltip": null,
            "_model_module": "@jupyter-widgets/controls",
            "layout": "IPY_MODEL_422bd706817744108ce9507bc9fe55c9"
          }
        },
        "e4d09ce3d4544edf9a5dacb80d394e4e": {
          "model_module": "@jupyter-widgets/controls",
          "model_name": "DescriptionStyleModel",
          "model_module_version": "1.5.0",
          "state": {
            "_view_name": "StyleView",
            "_model_name": "DescriptionStyleModel",
            "description_width": "",
            "_view_module": "@jupyter-widgets/base",
            "_model_module_version": "1.5.0",
            "_view_count": null,
            "_view_module_version": "1.2.0",
            "_model_module": "@jupyter-widgets/controls"
          }
        },
        "3bab3b7c92ba48b58ee830d968931bcf": {
          "model_module": "@jupyter-widgets/base",
          "model_name": "LayoutModel",
          "model_module_version": "1.2.0",
          "state": {
            "_view_name": "LayoutView",
            "grid_template_rows": null,
            "right": null,
            "justify_content": null,
            "_view_module": "@jupyter-widgets/base",
            "overflow": null,
            "_model_module_version": "1.2.0",
            "_view_count": null,
            "flex_flow": null,
            "width": null,
            "min_width": null,
            "border": null,
            "align_items": null,
            "bottom": null,
            "_model_module": "@jupyter-widgets/base",
            "top": null,
            "grid_column": null,
            "overflow_y": null,
            "overflow_x": null,
            "grid_auto_flow": null,
            "grid_area": null,
            "grid_template_columns": null,
            "flex": null,
            "_model_name": "LayoutModel",
            "justify_items": null,
            "grid_row": null,
            "max_height": null,
            "align_content": null,
            "visibility": null,
            "align_self": null,
            "height": null,
            "min_height": null,
            "padding": null,
            "grid_auto_rows": null,
            "grid_gap": null,
            "max_width": null,
            "order": null,
            "_view_module_version": "1.2.0",
            "grid_template_areas": null,
            "object_position": null,
            "object_fit": null,
            "grid_auto_columns": null,
            "margin": null,
            "display": null,
            "left": null
          }
        },
        "6c7c1a11149d49d1aa273ccaca1442cb": {
          "model_module": "@jupyter-widgets/controls",
          "model_name": "ProgressStyleModel",
          "model_module_version": "1.5.0",
          "state": {
            "_view_name": "StyleView",
            "_model_name": "ProgressStyleModel",
            "description_width": "",
            "_view_module": "@jupyter-widgets/base",
            "_model_module_version": "1.5.0",
            "_view_count": null,
            "_view_module_version": "1.2.0",
            "bar_color": null,
            "_model_module": "@jupyter-widgets/controls"
          }
        },
        "b0c9a8655f104c5ab4a79024dcdfe450": {
          "model_module": "@jupyter-widgets/base",
          "model_name": "LayoutModel",
          "model_module_version": "1.2.0",
          "state": {
            "_view_name": "LayoutView",
            "grid_template_rows": null,
            "right": null,
            "justify_content": null,
            "_view_module": "@jupyter-widgets/base",
            "overflow": null,
            "_model_module_version": "1.2.0",
            "_view_count": null,
            "flex_flow": null,
            "width": null,
            "min_width": null,
            "border": null,
            "align_items": null,
            "bottom": null,
            "_model_module": "@jupyter-widgets/base",
            "top": null,
            "grid_column": null,
            "overflow_y": null,
            "overflow_x": null,
            "grid_auto_flow": null,
            "grid_area": null,
            "grid_template_columns": null,
            "flex": null,
            "_model_name": "LayoutModel",
            "justify_items": null,
            "grid_row": null,
            "max_height": null,
            "align_content": null,
            "visibility": null,
            "align_self": null,
            "height": null,
            "min_height": null,
            "padding": null,
            "grid_auto_rows": null,
            "grid_gap": null,
            "max_width": null,
            "order": null,
            "_view_module_version": "1.2.0",
            "grid_template_areas": null,
            "object_position": null,
            "object_fit": null,
            "grid_auto_columns": null,
            "margin": null,
            "display": null,
            "left": null
          }
        },
        "83ab3cfca7374562a940ddd4a99038fb": {
          "model_module": "@jupyter-widgets/controls",
          "model_name": "DescriptionStyleModel",
          "model_module_version": "1.5.0",
          "state": {
            "_view_name": "StyleView",
            "_model_name": "DescriptionStyleModel",
            "description_width": "",
            "_view_module": "@jupyter-widgets/base",
            "_model_module_version": "1.5.0",
            "_view_count": null,
            "_view_module_version": "1.2.0",
            "_model_module": "@jupyter-widgets/controls"
          }
        },
        "422bd706817744108ce9507bc9fe55c9": {
          "model_module": "@jupyter-widgets/base",
          "model_name": "LayoutModel",
          "model_module_version": "1.2.0",
          "state": {
            "_view_name": "LayoutView",
            "grid_template_rows": null,
            "right": null,
            "justify_content": null,
            "_view_module": "@jupyter-widgets/base",
            "overflow": null,
            "_model_module_version": "1.2.0",
            "_view_count": null,
            "flex_flow": null,
            "width": null,
            "min_width": null,
            "border": null,
            "align_items": null,
            "bottom": null,
            "_model_module": "@jupyter-widgets/base",
            "top": null,
            "grid_column": null,
            "overflow_y": null,
            "overflow_x": null,
            "grid_auto_flow": null,
            "grid_area": null,
            "grid_template_columns": null,
            "flex": null,
            "_model_name": "LayoutModel",
            "justify_items": null,
            "grid_row": null,
            "max_height": null,
            "align_content": null,
            "visibility": null,
            "align_self": null,
            "height": null,
            "min_height": null,
            "padding": null,
            "grid_auto_rows": null,
            "grid_gap": null,
            "max_width": null,
            "order": null,
            "_view_module_version": "1.2.0",
            "grid_template_areas": null,
            "object_position": null,
            "object_fit": null,
            "grid_auto_columns": null,
            "margin": null,
            "display": null,
            "left": null
          }
        },
        "9694c72a8aab46328aa4e7ee05429674": {
          "model_module": "@jupyter-widgets/controls",
          "model_name": "HBoxModel",
          "model_module_version": "1.5.0",
          "state": {
            "_view_name": "HBoxView",
            "_dom_classes": [],
            "_model_name": "HBoxModel",
            "_view_module": "@jupyter-widgets/controls",
            "_model_module_version": "1.5.0",
            "_view_count": null,
            "_view_module_version": "1.5.0",
            "box_style": "",
            "layout": "IPY_MODEL_afd845973afa425f95ef28a3f8bcc78d",
            "_model_module": "@jupyter-widgets/controls",
            "children": [
              "IPY_MODEL_aecdf34b74874f9d9ceb95559bd467f7",
              "IPY_MODEL_43310f4b3e26462aa6d2fb9f89c90a13",
              "IPY_MODEL_387ef7caf9204f20b12e45075f8903e8"
            ]
          }
        },
        "afd845973afa425f95ef28a3f8bcc78d": {
          "model_module": "@jupyter-widgets/base",
          "model_name": "LayoutModel",
          "model_module_version": "1.2.0",
          "state": {
            "_view_name": "LayoutView",
            "grid_template_rows": null,
            "right": null,
            "justify_content": null,
            "_view_module": "@jupyter-widgets/base",
            "overflow": null,
            "_model_module_version": "1.2.0",
            "_view_count": null,
            "flex_flow": null,
            "width": null,
            "min_width": null,
            "border": null,
            "align_items": null,
            "bottom": null,
            "_model_module": "@jupyter-widgets/base",
            "top": null,
            "grid_column": null,
            "overflow_y": null,
            "overflow_x": null,
            "grid_auto_flow": null,
            "grid_area": null,
            "grid_template_columns": null,
            "flex": null,
            "_model_name": "LayoutModel",
            "justify_items": null,
            "grid_row": null,
            "max_height": null,
            "align_content": null,
            "visibility": null,
            "align_self": null,
            "height": null,
            "min_height": null,
            "padding": null,
            "grid_auto_rows": null,
            "grid_gap": null,
            "max_width": null,
            "order": null,
            "_view_module_version": "1.2.0",
            "grid_template_areas": null,
            "object_position": null,
            "object_fit": null,
            "grid_auto_columns": null,
            "margin": null,
            "display": null,
            "left": null
          }
        },
        "aecdf34b74874f9d9ceb95559bd467f7": {
          "model_module": "@jupyter-widgets/controls",
          "model_name": "HTMLModel",
          "model_module_version": "1.5.0",
          "state": {
            "_view_name": "HTMLView",
            "style": "IPY_MODEL_0ddb048c79d74663966d814b7760c9b6",
            "_dom_classes": [],
            "description": "",
            "_model_name": "HTMLModel",
            "placeholder": "​",
            "_view_module": "@jupyter-widgets/controls",
            "_model_module_version": "1.5.0",
            "value": "",
            "_view_count": null,
            "_view_module_version": "1.5.0",
            "description_tooltip": null,
            "_model_module": "@jupyter-widgets/controls",
            "layout": "IPY_MODEL_0686ceef868049a89292220323da1f3d"
          }
        },
        "43310f4b3e26462aa6d2fb9f89c90a13": {
          "model_module": "@jupyter-widgets/controls",
          "model_name": "FloatProgressModel",
          "model_module_version": "1.5.0",
          "state": {
            "_view_name": "ProgressView",
            "style": "IPY_MODEL_547ca37d804441f299f6f092e265ddbf",
            "_dom_classes": [],
            "description": "",
            "_model_name": "FloatProgressModel",
            "bar_style": "success",
            "max": 1648877,
            "_view_module": "@jupyter-widgets/controls",
            "_model_module_version": "1.5.0",
            "value": 1648877,
            "_view_count": null,
            "_view_module_version": "1.5.0",
            "orientation": "horizontal",
            "min": 0,
            "description_tooltip": null,
            "_model_module": "@jupyter-widgets/controls",
            "layout": "IPY_MODEL_f4acf1815c024ff6bc2269a14952b5a7"
          }
        },
        "387ef7caf9204f20b12e45075f8903e8": {
          "model_module": "@jupyter-widgets/controls",
          "model_name": "HTMLModel",
          "model_module_version": "1.5.0",
          "state": {
            "_view_name": "HTMLView",
            "style": "IPY_MODEL_8c48f5c3bcb640a791cbca6d2aa87812",
            "_dom_classes": [],
            "description": "",
            "_model_name": "HTMLModel",
            "placeholder": "​",
            "_view_module": "@jupyter-widgets/controls",
            "_model_module_version": "1.5.0",
            "value": " 1649664/? [00:00&lt;00:00, 17667586.70it/s]",
            "_view_count": null,
            "_view_module_version": "1.5.0",
            "description_tooltip": null,
            "_model_module": "@jupyter-widgets/controls",
            "layout": "IPY_MODEL_c9833520614e453da56220b9b9ea4589"
          }
        },
        "0ddb048c79d74663966d814b7760c9b6": {
          "model_module": "@jupyter-widgets/controls",
          "model_name": "DescriptionStyleModel",
          "model_module_version": "1.5.0",
          "state": {
            "_view_name": "StyleView",
            "_model_name": "DescriptionStyleModel",
            "description_width": "",
            "_view_module": "@jupyter-widgets/base",
            "_model_module_version": "1.5.0",
            "_view_count": null,
            "_view_module_version": "1.2.0",
            "_model_module": "@jupyter-widgets/controls"
          }
        },
        "0686ceef868049a89292220323da1f3d": {
          "model_module": "@jupyter-widgets/base",
          "model_name": "LayoutModel",
          "model_module_version": "1.2.0",
          "state": {
            "_view_name": "LayoutView",
            "grid_template_rows": null,
            "right": null,
            "justify_content": null,
            "_view_module": "@jupyter-widgets/base",
            "overflow": null,
            "_model_module_version": "1.2.0",
            "_view_count": null,
            "flex_flow": null,
            "width": null,
            "min_width": null,
            "border": null,
            "align_items": null,
            "bottom": null,
            "_model_module": "@jupyter-widgets/base",
            "top": null,
            "grid_column": null,
            "overflow_y": null,
            "overflow_x": null,
            "grid_auto_flow": null,
            "grid_area": null,
            "grid_template_columns": null,
            "flex": null,
            "_model_name": "LayoutModel",
            "justify_items": null,
            "grid_row": null,
            "max_height": null,
            "align_content": null,
            "visibility": null,
            "align_self": null,
            "height": null,
            "min_height": null,
            "padding": null,
            "grid_auto_rows": null,
            "grid_gap": null,
            "max_width": null,
            "order": null,
            "_view_module_version": "1.2.0",
            "grid_template_areas": null,
            "object_position": null,
            "object_fit": null,
            "grid_auto_columns": null,
            "margin": null,
            "display": null,
            "left": null
          }
        },
        "547ca37d804441f299f6f092e265ddbf": {
          "model_module": "@jupyter-widgets/controls",
          "model_name": "ProgressStyleModel",
          "model_module_version": "1.5.0",
          "state": {
            "_view_name": "StyleView",
            "_model_name": "ProgressStyleModel",
            "description_width": "",
            "_view_module": "@jupyter-widgets/base",
            "_model_module_version": "1.5.0",
            "_view_count": null,
            "_view_module_version": "1.2.0",
            "bar_color": null,
            "_model_module": "@jupyter-widgets/controls"
          }
        },
        "f4acf1815c024ff6bc2269a14952b5a7": {
          "model_module": "@jupyter-widgets/base",
          "model_name": "LayoutModel",
          "model_module_version": "1.2.0",
          "state": {
            "_view_name": "LayoutView",
            "grid_template_rows": null,
            "right": null,
            "justify_content": null,
            "_view_module": "@jupyter-widgets/base",
            "overflow": null,
            "_model_module_version": "1.2.0",
            "_view_count": null,
            "flex_flow": null,
            "width": null,
            "min_width": null,
            "border": null,
            "align_items": null,
            "bottom": null,
            "_model_module": "@jupyter-widgets/base",
            "top": null,
            "grid_column": null,
            "overflow_y": null,
            "overflow_x": null,
            "grid_auto_flow": null,
            "grid_area": null,
            "grid_template_columns": null,
            "flex": null,
            "_model_name": "LayoutModel",
            "justify_items": null,
            "grid_row": null,
            "max_height": null,
            "align_content": null,
            "visibility": null,
            "align_self": null,
            "height": null,
            "min_height": null,
            "padding": null,
            "grid_auto_rows": null,
            "grid_gap": null,
            "max_width": null,
            "order": null,
            "_view_module_version": "1.2.0",
            "grid_template_areas": null,
            "object_position": null,
            "object_fit": null,
            "grid_auto_columns": null,
            "margin": null,
            "display": null,
            "left": null
          }
        },
        "8c48f5c3bcb640a791cbca6d2aa87812": {
          "model_module": "@jupyter-widgets/controls",
          "model_name": "DescriptionStyleModel",
          "model_module_version": "1.5.0",
          "state": {
            "_view_name": "StyleView",
            "_model_name": "DescriptionStyleModel",
            "description_width": "",
            "_view_module": "@jupyter-widgets/base",
            "_model_module_version": "1.5.0",
            "_view_count": null,
            "_view_module_version": "1.2.0",
            "_model_module": "@jupyter-widgets/controls"
          }
        },
        "c9833520614e453da56220b9b9ea4589": {
          "model_module": "@jupyter-widgets/base",
          "model_name": "LayoutModel",
          "model_module_version": "1.2.0",
          "state": {
            "_view_name": "LayoutView",
            "grid_template_rows": null,
            "right": null,
            "justify_content": null,
            "_view_module": "@jupyter-widgets/base",
            "overflow": null,
            "_model_module_version": "1.2.0",
            "_view_count": null,
            "flex_flow": null,
            "width": null,
            "min_width": null,
            "border": null,
            "align_items": null,
            "bottom": null,
            "_model_module": "@jupyter-widgets/base",
            "top": null,
            "grid_column": null,
            "overflow_y": null,
            "overflow_x": null,
            "grid_auto_flow": null,
            "grid_area": null,
            "grid_template_columns": null,
            "flex": null,
            "_model_name": "LayoutModel",
            "justify_items": null,
            "grid_row": null,
            "max_height": null,
            "align_content": null,
            "visibility": null,
            "align_self": null,
            "height": null,
            "min_height": null,
            "padding": null,
            "grid_auto_rows": null,
            "grid_gap": null,
            "max_width": null,
            "order": null,
            "_view_module_version": "1.2.0",
            "grid_template_areas": null,
            "object_position": null,
            "object_fit": null,
            "grid_auto_columns": null,
            "margin": null,
            "display": null,
            "left": null
          }
        },
        "b2ec396a3eca45a8a8f3dc4569dbf275": {
          "model_module": "@jupyter-widgets/controls",
          "model_name": "HBoxModel",
          "model_module_version": "1.5.0",
          "state": {
            "_view_name": "HBoxView",
            "_dom_classes": [],
            "_model_name": "HBoxModel",
            "_view_module": "@jupyter-widgets/controls",
            "_model_module_version": "1.5.0",
            "_view_count": null,
            "_view_module_version": "1.5.0",
            "box_style": "",
            "layout": "IPY_MODEL_3883613be7344804ac873af87d0d8859",
            "_model_module": "@jupyter-widgets/controls",
            "children": [
              "IPY_MODEL_e166d90a6ace47a5aee4ab81e02aef31",
              "IPY_MODEL_22750ee88a4d4984991f960254af1168",
              "IPY_MODEL_ec19c1fb5a6b45458f04397909dca03c"
            ]
          }
        },
        "3883613be7344804ac873af87d0d8859": {
          "model_module": "@jupyter-widgets/base",
          "model_name": "LayoutModel",
          "model_module_version": "1.2.0",
          "state": {
            "_view_name": "LayoutView",
            "grid_template_rows": null,
            "right": null,
            "justify_content": null,
            "_view_module": "@jupyter-widgets/base",
            "overflow": null,
            "_model_module_version": "1.2.0",
            "_view_count": null,
            "flex_flow": null,
            "width": null,
            "min_width": null,
            "border": null,
            "align_items": null,
            "bottom": null,
            "_model_module": "@jupyter-widgets/base",
            "top": null,
            "grid_column": null,
            "overflow_y": null,
            "overflow_x": null,
            "grid_auto_flow": null,
            "grid_area": null,
            "grid_template_columns": null,
            "flex": null,
            "_model_name": "LayoutModel",
            "justify_items": null,
            "grid_row": null,
            "max_height": null,
            "align_content": null,
            "visibility": null,
            "align_self": null,
            "height": null,
            "min_height": null,
            "padding": null,
            "grid_auto_rows": null,
            "grid_gap": null,
            "max_width": null,
            "order": null,
            "_view_module_version": "1.2.0",
            "grid_template_areas": null,
            "object_position": null,
            "object_fit": null,
            "grid_auto_columns": null,
            "margin": null,
            "display": null,
            "left": null
          }
        },
        "e166d90a6ace47a5aee4ab81e02aef31": {
          "model_module": "@jupyter-widgets/controls",
          "model_name": "HTMLModel",
          "model_module_version": "1.5.0",
          "state": {
            "_view_name": "HTMLView",
            "style": "IPY_MODEL_39a892136e6e451dae9e6e966244916e",
            "_dom_classes": [],
            "description": "",
            "_model_name": "HTMLModel",
            "placeholder": "​",
            "_view_module": "@jupyter-widgets/controls",
            "_model_module_version": "1.5.0",
            "value": "",
            "_view_count": null,
            "_view_module_version": "1.5.0",
            "description_tooltip": null,
            "_model_module": "@jupyter-widgets/controls",
            "layout": "IPY_MODEL_45f33fecaa1b47049d89f5c4e1de2b80"
          }
        },
        "22750ee88a4d4984991f960254af1168": {
          "model_module": "@jupyter-widgets/controls",
          "model_name": "FloatProgressModel",
          "model_module_version": "1.5.0",
          "state": {
            "_view_name": "ProgressView",
            "style": "IPY_MODEL_6dfdb8ba1019491e99db8394939b5567",
            "_dom_classes": [],
            "description": "",
            "_model_name": "FloatProgressModel",
            "bar_style": "success",
            "max": 4542,
            "_view_module": "@jupyter-widgets/controls",
            "_model_module_version": "1.5.0",
            "value": 4542,
            "_view_count": null,
            "_view_module_version": "1.5.0",
            "orientation": "horizontal",
            "min": 0,
            "description_tooltip": null,
            "_model_module": "@jupyter-widgets/controls",
            "layout": "IPY_MODEL_576327ee9b034faaad7c68496c643ede"
          }
        },
        "ec19c1fb5a6b45458f04397909dca03c": {
          "model_module": "@jupyter-widgets/controls",
          "model_name": "HTMLModel",
          "model_module_version": "1.5.0",
          "state": {
            "_view_name": "HTMLView",
            "style": "IPY_MODEL_4e8805894a85495b80eb7d7e3e94577b",
            "_dom_classes": [],
            "description": "",
            "_model_name": "HTMLModel",
            "placeholder": "​",
            "_view_module": "@jupyter-widgets/controls",
            "_model_module_version": "1.5.0",
            "value": " 5120/? [00:00&lt;00:00, 152880.63it/s]",
            "_view_count": null,
            "_view_module_version": "1.5.0",
            "description_tooltip": null,
            "_model_module": "@jupyter-widgets/controls",
            "layout": "IPY_MODEL_2831f018eca94e87b2871f9c00a5ef26"
          }
        },
        "39a892136e6e451dae9e6e966244916e": {
          "model_module": "@jupyter-widgets/controls",
          "model_name": "DescriptionStyleModel",
          "model_module_version": "1.5.0",
          "state": {
            "_view_name": "StyleView",
            "_model_name": "DescriptionStyleModel",
            "description_width": "",
            "_view_module": "@jupyter-widgets/base",
            "_model_module_version": "1.5.0",
            "_view_count": null,
            "_view_module_version": "1.2.0",
            "_model_module": "@jupyter-widgets/controls"
          }
        },
        "45f33fecaa1b47049d89f5c4e1de2b80": {
          "model_module": "@jupyter-widgets/base",
          "model_name": "LayoutModel",
          "model_module_version": "1.2.0",
          "state": {
            "_view_name": "LayoutView",
            "grid_template_rows": null,
            "right": null,
            "justify_content": null,
            "_view_module": "@jupyter-widgets/base",
            "overflow": null,
            "_model_module_version": "1.2.0",
            "_view_count": null,
            "flex_flow": null,
            "width": null,
            "min_width": null,
            "border": null,
            "align_items": null,
            "bottom": null,
            "_model_module": "@jupyter-widgets/base",
            "top": null,
            "grid_column": null,
            "overflow_y": null,
            "overflow_x": null,
            "grid_auto_flow": null,
            "grid_area": null,
            "grid_template_columns": null,
            "flex": null,
            "_model_name": "LayoutModel",
            "justify_items": null,
            "grid_row": null,
            "max_height": null,
            "align_content": null,
            "visibility": null,
            "align_self": null,
            "height": null,
            "min_height": null,
            "padding": null,
            "grid_auto_rows": null,
            "grid_gap": null,
            "max_width": null,
            "order": null,
            "_view_module_version": "1.2.0",
            "grid_template_areas": null,
            "object_position": null,
            "object_fit": null,
            "grid_auto_columns": null,
            "margin": null,
            "display": null,
            "left": null
          }
        },
        "6dfdb8ba1019491e99db8394939b5567": {
          "model_module": "@jupyter-widgets/controls",
          "model_name": "ProgressStyleModel",
          "model_module_version": "1.5.0",
          "state": {
            "_view_name": "StyleView",
            "_model_name": "ProgressStyleModel",
            "description_width": "",
            "_view_module": "@jupyter-widgets/base",
            "_model_module_version": "1.5.0",
            "_view_count": null,
            "_view_module_version": "1.2.0",
            "bar_color": null,
            "_model_module": "@jupyter-widgets/controls"
          }
        },
        "576327ee9b034faaad7c68496c643ede": {
          "model_module": "@jupyter-widgets/base",
          "model_name": "LayoutModel",
          "model_module_version": "1.2.0",
          "state": {
            "_view_name": "LayoutView",
            "grid_template_rows": null,
            "right": null,
            "justify_content": null,
            "_view_module": "@jupyter-widgets/base",
            "overflow": null,
            "_model_module_version": "1.2.0",
            "_view_count": null,
            "flex_flow": null,
            "width": null,
            "min_width": null,
            "border": null,
            "align_items": null,
            "bottom": null,
            "_model_module": "@jupyter-widgets/base",
            "top": null,
            "grid_column": null,
            "overflow_y": null,
            "overflow_x": null,
            "grid_auto_flow": null,
            "grid_area": null,
            "grid_template_columns": null,
            "flex": null,
            "_model_name": "LayoutModel",
            "justify_items": null,
            "grid_row": null,
            "max_height": null,
            "align_content": null,
            "visibility": null,
            "align_self": null,
            "height": null,
            "min_height": null,
            "padding": null,
            "grid_auto_rows": null,
            "grid_gap": null,
            "max_width": null,
            "order": null,
            "_view_module_version": "1.2.0",
            "grid_template_areas": null,
            "object_position": null,
            "object_fit": null,
            "grid_auto_columns": null,
            "margin": null,
            "display": null,
            "left": null
          }
        },
        "4e8805894a85495b80eb7d7e3e94577b": {
          "model_module": "@jupyter-widgets/controls",
          "model_name": "DescriptionStyleModel",
          "model_module_version": "1.5.0",
          "state": {
            "_view_name": "StyleView",
            "_model_name": "DescriptionStyleModel",
            "description_width": "",
            "_view_module": "@jupyter-widgets/base",
            "_model_module_version": "1.5.0",
            "_view_count": null,
            "_view_module_version": "1.2.0",
            "_model_module": "@jupyter-widgets/controls"
          }
        },
        "2831f018eca94e87b2871f9c00a5ef26": {
          "model_module": "@jupyter-widgets/base",
          "model_name": "LayoutModel",
          "model_module_version": "1.2.0",
          "state": {
            "_view_name": "LayoutView",
            "grid_template_rows": null,
            "right": null,
            "justify_content": null,
            "_view_module": "@jupyter-widgets/base",
            "overflow": null,
            "_model_module_version": "1.2.0",
            "_view_count": null,
            "flex_flow": null,
            "width": null,
            "min_width": null,
            "border": null,
            "align_items": null,
            "bottom": null,
            "_model_module": "@jupyter-widgets/base",
            "top": null,
            "grid_column": null,
            "overflow_y": null,
            "overflow_x": null,
            "grid_auto_flow": null,
            "grid_area": null,
            "grid_template_columns": null,
            "flex": null,
            "_model_name": "LayoutModel",
            "justify_items": null,
            "grid_row": null,
            "max_height": null,
            "align_content": null,
            "visibility": null,
            "align_self": null,
            "height": null,
            "min_height": null,
            "padding": null,
            "grid_auto_rows": null,
            "grid_gap": null,
            "max_width": null,
            "order": null,
            "_view_module_version": "1.2.0",
            "grid_template_areas": null,
            "object_position": null,
            "object_fit": null,
            "grid_auto_columns": null,
            "margin": null,
            "display": null,
            "left": null
          }
        }
      }
    }
  },
  "cells": [
    {
      "cell_type": "code",
      "metadata": {
        "id": "wyP8Ih5YIgYI"
      },
      "source": [
        "import torch\n",
        "import torch.nn as nn\n",
        "import torch.nn.functional as F\n",
        "import torchvision\n",
        "import torchvision.transforms as transforms\n",
        "\n",
        "import numpy as np\n",
        "import matplotlib.pyplot as plt"
      ],
      "execution_count": null,
      "outputs": []
    },
    {
      "cell_type": "code",
      "metadata": {
        "id": "oWafsBpCzBrj"
      },
      "source": [
        "device = torch.device(\"cuda\" if torch.cuda.is_available() else \"cpu\")"
      ],
      "execution_count": null,
      "outputs": []
    },
    {
      "cell_type": "code",
      "metadata": {
        "id": "u45Ay1FKfHRb"
      },
      "source": [
        "# Hyper-parameters \n",
        "input_size = 784\n",
        "hidden_size = 512\n",
        "num_classes = 10\n",
        "\n",
        "# for training:\n",
        "batch_size = 128\n",
        "learning_rate = 0.001\n",
        "momentum = 0.9"
      ],
      "execution_count": null,
      "outputs": []
    },
    {
      "cell_type": "code",
      "metadata": {
        "id": "Ur1s7gcUN382",
        "colab": {
          "base_uri": "https://localhost:8080/",
          "height": 474,
          "referenced_widgets": [
            "d1785517c46b45038dcf81fbfa1e2951",
            "199705faa4b8418da4d06ff1bfdd25de",
            "9e3f70cfff804fc09e714db0627363b3",
            "d123c45bcefd4b6da86a7440b69e5385",
            "5fb32fa94e64446b847a3282544bf634",
            "2601e0e7cfbd44f69fdb23ed2c06416d",
            "c1659fb8db094ba08921cbb96093458a",
            "9c14a4607a204f0d90eb8de112522cf4",
            "f4869e0b16b04fa2b340fb123922a7e6",
            "d0377cc0cbac44b5a933751a5a69bc05",
            "bafeecaf5f0f401db114cec848c4025d",
            "fdfea464d0004015889893b4f41ad916",
            "22587b4ed3f84e96bae73dc03772161a",
            "bc160e9730d34ee5ab30e3371984618a",
            "8a95138c1dc04a0aa4b89c954bf1bc20",
            "7a5664de234042beabd48735dd80877c",
            "e4d09ce3d4544edf9a5dacb80d394e4e",
            "3bab3b7c92ba48b58ee830d968931bcf",
            "6c7c1a11149d49d1aa273ccaca1442cb",
            "b0c9a8655f104c5ab4a79024dcdfe450",
            "83ab3cfca7374562a940ddd4a99038fb",
            "422bd706817744108ce9507bc9fe55c9",
            "9694c72a8aab46328aa4e7ee05429674",
            "afd845973afa425f95ef28a3f8bcc78d",
            "aecdf34b74874f9d9ceb95559bd467f7",
            "43310f4b3e26462aa6d2fb9f89c90a13",
            "387ef7caf9204f20b12e45075f8903e8",
            "0ddb048c79d74663966d814b7760c9b6",
            "0686ceef868049a89292220323da1f3d",
            "547ca37d804441f299f6f092e265ddbf",
            "f4acf1815c024ff6bc2269a14952b5a7",
            "8c48f5c3bcb640a791cbca6d2aa87812",
            "c9833520614e453da56220b9b9ea4589",
            "b2ec396a3eca45a8a8f3dc4569dbf275",
            "3883613be7344804ac873af87d0d8859",
            "e166d90a6ace47a5aee4ab81e02aef31",
            "22750ee88a4d4984991f960254af1168",
            "ec19c1fb5a6b45458f04397909dca03c",
            "39a892136e6e451dae9e6e966244916e",
            "45f33fecaa1b47049d89f5c4e1de2b80",
            "6dfdb8ba1019491e99db8394939b5567",
            "576327ee9b034faaad7c68496c643ede",
            "4e8805894a85495b80eb7d7e3e94577b",
            "2831f018eca94e87b2871f9c00a5ef26"
          ]
        },
        "outputId": "58b98e07-3ce6-4e90-ebbe-965018f065ae"
      },
      "source": [
        "train_set = torchvision.datasets.MNIST(\n",
        "    root='./data', train=True, transform=transforms.ToTensor(), download=True)\n",
        "\n",
        "test_set = torchvision.datasets.MNIST(\n",
        "    root='./data', train=False,transform=transforms.ToTensor())\n",
        "\n",
        "# Dataloaders\n",
        "test_loader = torch.utils.data.DataLoader(\n",
        "    dataset=test_set, batch_size=batch_size, shuffle=False)"
      ],
      "execution_count": null,
      "outputs": [
        {
          "output_type": "stream",
          "name": "stdout",
          "text": [
            "Downloading http://yann.lecun.com/exdb/mnist/train-images-idx3-ubyte.gz\n",
            "Downloading http://yann.lecun.com/exdb/mnist/train-images-idx3-ubyte.gz to ./data/MNIST/raw/train-images-idx3-ubyte.gz\n"
          ]
        },
        {
          "output_type": "display_data",
          "data": {
            "application/vnd.jupyter.widget-view+json": {
              "model_id": "d1785517c46b45038dcf81fbfa1e2951",
              "version_minor": 0,
              "version_major": 2
            },
            "text/plain": [
              "  0%|          | 0/9912422 [00:00<?, ?it/s]"
            ]
          },
          "metadata": {}
        },
        {
          "output_type": "stream",
          "name": "stdout",
          "text": [
            "Extracting ./data/MNIST/raw/train-images-idx3-ubyte.gz to ./data/MNIST/raw\n",
            "\n",
            "Downloading http://yann.lecun.com/exdb/mnist/train-labels-idx1-ubyte.gz\n",
            "Downloading http://yann.lecun.com/exdb/mnist/train-labels-idx1-ubyte.gz to ./data/MNIST/raw/train-labels-idx1-ubyte.gz\n"
          ]
        },
        {
          "output_type": "display_data",
          "data": {
            "application/vnd.jupyter.widget-view+json": {
              "model_id": "fdfea464d0004015889893b4f41ad916",
              "version_minor": 0,
              "version_major": 2
            },
            "text/plain": [
              "  0%|          | 0/28881 [00:00<?, ?it/s]"
            ]
          },
          "metadata": {}
        },
        {
          "output_type": "stream",
          "name": "stdout",
          "text": [
            "Extracting ./data/MNIST/raw/train-labels-idx1-ubyte.gz to ./data/MNIST/raw\n",
            "\n",
            "Downloading http://yann.lecun.com/exdb/mnist/t10k-images-idx3-ubyte.gz\n",
            "Downloading http://yann.lecun.com/exdb/mnist/t10k-images-idx3-ubyte.gz to ./data/MNIST/raw/t10k-images-idx3-ubyte.gz\n"
          ]
        },
        {
          "output_type": "display_data",
          "data": {
            "application/vnd.jupyter.widget-view+json": {
              "model_id": "9694c72a8aab46328aa4e7ee05429674",
              "version_minor": 0,
              "version_major": 2
            },
            "text/plain": [
              "  0%|          | 0/1648877 [00:00<?, ?it/s]"
            ]
          },
          "metadata": {}
        },
        {
          "output_type": "stream",
          "name": "stdout",
          "text": [
            "Extracting ./data/MNIST/raw/t10k-images-idx3-ubyte.gz to ./data/MNIST/raw\n",
            "\n",
            "Downloading http://yann.lecun.com/exdb/mnist/t10k-labels-idx1-ubyte.gz\n",
            "Downloading http://yann.lecun.com/exdb/mnist/t10k-labels-idx1-ubyte.gz to ./data/MNIST/raw/t10k-labels-idx1-ubyte.gz\n"
          ]
        },
        {
          "output_type": "display_data",
          "data": {
            "application/vnd.jupyter.widget-view+json": {
              "model_id": "b2ec396a3eca45a8a8f3dc4569dbf275",
              "version_minor": 0,
              "version_major": 2
            },
            "text/plain": [
              "  0%|          | 0/4542 [00:00<?, ?it/s]"
            ]
          },
          "metadata": {}
        },
        {
          "output_type": "stream",
          "name": "stdout",
          "text": [
            "Extracting ./data/MNIST/raw/t10k-labels-idx1-ubyte.gz to ./data/MNIST/raw\n",
            "\n"
          ]
        },
        {
          "output_type": "stream",
          "name": "stderr",
          "text": [
            "/usr/local/lib/python3.7/dist-packages/torchvision/datasets/mnist.py:498: UserWarning: The given NumPy array is not writeable, and PyTorch does not support non-writeable tensors. This means you can write to the underlying (supposedly non-writeable) NumPy array using the tensor. You may want to copy the array to protect its data or make it writeable before converting it to a tensor. This type of warning will be suppressed for the rest of this program. (Triggered internally at  /pytorch/torch/csrc/utils/tensor_numpy.cpp:180.)\n",
            "  return torch.from_numpy(parsed.astype(m[2], copy=False)).view(*s)\n"
          ]
        }
      ]
    },
    {
      "cell_type": "code",
      "metadata": {
        "id": "Rpsv906XnZjj",
        "colab": {
          "base_uri": "https://localhost:8080/",
          "height": 282
        },
        "outputId": "bd24d25d-d317-403b-915b-5245ece326cc"
      },
      "source": [
        "# train_set[12] calls train_set.__getitem__(12)\n",
        "# train_set[12][1] contains the label, here 3\n",
        "plt.imshow(np.squeeze((train_set[12][0].numpy())))"
      ],
      "execution_count": null,
      "outputs": [
        {
          "output_type": "execute_result",
          "data": {
            "text/plain": [
              "<matplotlib.image.AxesImage at 0x7f6325cb9c90>"
            ]
          },
          "metadata": {},
          "execution_count": 5
        },
        {
          "output_type": "display_data",
          "data": {
            "image/png": "[encoded data removed]",
            "text/plain": [
              "<Figure size 432x288 with 1 Axes>"
            ]
          },
          "metadata": {
            "needs_background": "light"
          }
        }
      ]
    },
    {
      "cell_type": "code",
      "metadata": {
        "id": "1uebMnjrfKuF",
        "colab": {
          "base_uri": "https://localhost:8080/",
          "height": 34
        },
        "outputId": "98881f90-c11a-4883-817c-da265231b676"
      },
      "source": [
        "# or train_set.__len__()\n",
        "len(train_set)"
      ],
      "execution_count": null,
      "outputs": [
        {
          "output_type": "execute_result",
          "data": {
            "text/plain": [
              "60000"
            ]
          },
          "metadata": {
            "tags": []
          },
          "execution_count": 6
        }
      ]
    },
    {
      "cell_type": "code",
      "metadata": {
        "id": "012uZkXGex4M"
      },
      "source": [
        "# Split the training data into training and validation parts.\n",
        "# here we will use `torch.utils.data.SubsetRandomSampler`.\n",
        "\n",
        "idx = np.arange(len(train_set))\n",
        "\n",
        "# Use last 5000 images for validation\n",
        "val_indices = idx[60000-5000:]\n",
        "train_indices= idx[:-5000]"
      ],
      "execution_count": null,
      "outputs": []
    },
    {
      "cell_type": "code",
      "metadata": {
        "colab": {
          "base_uri": "https://localhost:8080/"
        },
        "id": "pF247iwk7PW2",
        "outputId": "d60a00f2-ab5f-400e-c8b1-5ac06c49b84e"
      },
      "source": [
        "print(len(val_indices))\n",
        "print(len(train_indices))"
      ],
      "execution_count": null,
      "outputs": [
        {
          "output_type": "stream",
          "name": "stdout",
          "text": [
            "5000\n",
            "55000\n"
          ]
        }
      ]
    },
    {
      "cell_type": "code",
      "metadata": {
        "id": "p61-ZDSDe13l"
      },
      "source": [
        "train_sampler = torch.utils.data.SubsetRandomSampler(train_indices)\n",
        "valid_sampler = torch.utils.data.SubsetRandomSampler(val_indices)\n",
        "\n",
        "train_loader = torch.utils.data.DataLoader(train_set, batch_size=batch_size,\n",
        "                                          sampler=train_sampler, num_workers=2)\n",
        "\n",
        "valid_loader = torch.utils.data.DataLoader(train_set, batch_size=batch_size,\n",
        "                                          sampler=valid_sampler, num_workers=2)"
      ],
      "execution_count": null,
      "outputs": []
    },
    {
      "cell_type": "code",
      "metadata": {
        "id": "pZKIzVT7bMFw"
      },
      "source": [
        "class FFModel(nn.Module):\n",
        "    def __init__(self, input_size, hidden_size, num_classes):\n",
        "        super(FFModel, self).__init__()\n",
        "        self.fc1 = nn.Linear(input_size , hidden_size)\n",
        "        self.fc2 = nn.Linear(hidden_size , num_classes)\n",
        "        self.activation = nn.ReLU(inplace=True)\n",
        "\n",
        "    def forward(self, x):\n",
        "        # Assume linealized input: here `images.view(−1, 28*28)`.\n",
        "        out = self.fc1(x)\n",
        "        out = self.activation(out)  # or F.relu.\n",
        "        out = self.fc2(out)\n",
        "        # second layer does not need activation function;\n",
        "        # softmax is computed by cross entropy loss.\n",
        "        return out"
      ],
      "execution_count": null,
      "outputs": []
    },
    {
      "cell_type": "code",
      "metadata": {
        "id": "moJmG5XsbUnT"
      },
      "source": [
        "model = FFModel(input_size , hidden_size , num_classes)\n",
        "model = model.to(device)  # put all model params on GPU.\n",
        "\n",
        "# Create loss and optimizer\n",
        "loss_fn = nn.CrossEntropyLoss()\n",
        "optimizer = torch.optim.SGD(model.parameters(), lr=learning_rate, momentum=momentum)"
      ],
      "execution_count": null,
      "outputs": []
    },
    {
      "cell_type": "code",
      "metadata": {
        "id": "B6Ot-aCQgM4L",
        "colab": {
          "base_uri": "https://localhost:8080/"
        },
        "outputId": "0996c956-b596-491d-f51d-a22f7bc6f246"
      },
      "source": [
        "print(model)"
      ],
      "execution_count": null,
      "outputs": [
        {
          "output_type": "stream",
          "name": "stdout",
          "text": [
            "FFModel(\n",
            "  (fc1): Linear(in_features=784, out_features=512, bias=True)\n",
            "  (fc2): Linear(in_features=512, out_features=10, bias=True)\n",
            "  (activation): ReLU(inplace=True)\n",
            ")\n"
          ]
        }
      ]
    },
    {
      "cell_type": "code",
      "metadata": {
        "colab": {
          "base_uri": "https://localhost:8080/",
          "height": 35
        },
        "id": "PyFrQH18IT5q",
        "outputId": "75df173e-49e8-4d56-baac-944b044d5185"
      },
      "source": [
        "torch.__version__"
      ],
      "execution_count": null,
      "outputs": [
        {
          "output_type": "execute_result",
          "data": {
            "application/vnd.google.colaboratory.intrinsic+json": {
              "type": "string"
            },
            "text/plain": [
              "'1.9.0+cu111'"
            ]
          },
          "metadata": {},
          "execution_count": 12
        }
      ]
    },
    {
      "cell_type": "code",
      "metadata": {
        "id": "xrWIXid9bguN",
        "colab": {
          "base_uri": "https://localhost:8080/"
        },
        "outputId": "319236c1-3b6b-465a-d72e-2fd52e9b4a1f"
      },
      "source": [
        "# Training\n",
        "\n",
        "num_epochs = 10\n",
        "\n",
        "for epoch in range(1, num_epochs):\n",
        "    running_loss = 0.0\n",
        "    running_total = 0\n",
        "    running_correct = 0\n",
        "    run_step = 0\n",
        "    for i, (images, labels) in enumerate(train_loader):\n",
        "        model.train()\n",
        "        # shape of input images is (B, 1, 28, 28).\n",
        "        images = images.view(-1, 28*28)  # reshape to (B, 784).\n",
        "        images = images.to(device)\n",
        "        labels = labels.to(device)  # shape (B).\n",
        "        outputs = model(images)  # shape (B, 10).\n",
        "        loss = loss_fn(outputs, labels)\n",
        "        optimizer.zero_grad()  # reset gradients.\n",
        "        loss.backward()  # compute gradients.\n",
        "        optimizer.step()  # update parameters.\n",
        "\n",
        "        running_loss += loss.item()\n",
        "        running_total += labels.size(0)\n",
        "\n",
        "        with torch.no_grad():\n",
        "            _, predicted = outputs.max(1)\n",
        "        running_correct += (predicted == labels).sum().item()\n",
        "        run_step += 1\n",
        "        if i % 200 == 0:\n",
        "            # check accuracy.\n",
        "            print(f'epoch: {epoch}, steps: {i}, '\n",
        "                  f'train_loss: {running_loss / run_step :.3f}, '\n",
        "                  f'running_acc: {100 * running_correct / running_total:.1f} %')\n",
        "            running_loss = 0.0\n",
        "            running_total = 0\n",
        "            running_correct = 0\n",
        "            run_step = 0\n",
        "\n",
        "    # validate\n",
        "    correct = 0\n",
        "    total = 0\n",
        "    model.eval()\n",
        "    with torch.no_grad():\n",
        "        for data in valid_loader:\n",
        "            images, labels = data\n",
        "            images, labels = images.to(device), labels.to(device)\n",
        "            images = images.view(-1, 28*28)\n",
        "            outputs = model(images)\n",
        "            _, predicted = outputs.max(1)\n",
        "            total += labels.size(0)\n",
        "            correct += (predicted == labels).sum().item()\n",
        "            val_acc = 100 * correct / total\n",
        "    print(f'Validation accuracy: {100 * correct / total} %')\n",
        "    print(f'Validation error rate: {100 - 100 * correct / total: .2f} %')\n",
        "print('Finished Training')"
      ],
      "execution_count": null,
      "outputs": [
        {
          "output_type": "stream",
          "name": "stdout",
          "text": [
            "epoch: 1, steps: 0, train_loss: 2.307, running_acc: 10.2 %\n",
            "epoch: 1, steps: 200, train_loss: 2.057, running_acc: 54.5 %\n",
            "epoch: 1, steps: 400, train_loss: 1.416, running_acc: 75.8 %\n",
            "Validation accuracy: 84.9 %\n",
            "Validation error rate:  15.10 %\n",
            "epoch: 2, steps: 0, train_loss: 1.028, running_acc: 80.5 %\n",
            "epoch: 2, steps: 200, train_loss: 0.900, running_acc: 81.6 %\n",
            "epoch: 2, steps: 400, train_loss: 0.700, running_acc: 84.4 %\n",
            "Validation accuracy: 89.12 %\n",
            "Validation error rate:  10.88 %\n",
            "epoch: 3, steps: 0, train_loss: 0.738, running_acc: 80.5 %\n",
            "epoch: 3, steps: 200, train_loss: 0.591, running_acc: 85.7 %\n",
            "epoch: 3, steps: 400, train_loss: 0.520, running_acc: 87.1 %\n",
            "Validation accuracy: 90.76 %\n",
            "Validation error rate:  9.24 %\n",
            "epoch: 4, steps: 0, train_loss: 0.562, running_acc: 84.4 %\n",
            "epoch: 4, steps: 200, train_loss: 0.474, running_acc: 87.8 %\n",
            "epoch: 4, steps: 400, train_loss: 0.458, running_acc: 88.0 %\n",
            "Validation accuracy: 91.42 %\n",
            "Validation error rate:  8.58 %\n",
            "epoch: 5, steps: 0, train_loss: 0.518, running_acc: 86.7 %\n",
            "epoch: 5, steps: 200, train_loss: 0.428, running_acc: 88.4 %\n",
            "epoch: 5, steps: 400, train_loss: 0.408, running_acc: 89.1 %\n",
            "Validation accuracy: 92.02 %\n",
            "Validation error rate:  7.98 %\n",
            "epoch: 6, steps: 0, train_loss: 0.469, running_acc: 90.6 %\n",
            "epoch: 6, steps: 200, train_loss: 0.394, running_acc: 89.4 %\n",
            "epoch: 6, steps: 400, train_loss: 0.384, running_acc: 89.4 %\n",
            "Validation accuracy: 92.12 %\n",
            "Validation error rate:  7.88 %\n",
            "epoch: 7, steps: 0, train_loss: 0.495, running_acc: 84.4 %\n",
            "epoch: 7, steps: 200, train_loss: 0.371, running_acc: 89.9 %\n",
            "epoch: 7, steps: 400, train_loss: 0.362, running_acc: 89.8 %\n",
            "Validation accuracy: 92.54 %\n",
            "Validation error rate:  7.46 %\n",
            "epoch: 8, steps: 0, train_loss: 0.392, running_acc: 89.8 %\n",
            "epoch: 8, steps: 200, train_loss: 0.354, running_acc: 90.3 %\n",
            "epoch: 8, steps: 400, train_loss: 0.349, running_acc: 90.0 %\n",
            "Validation accuracy: 92.76 %\n",
            "Validation error rate:  7.24 %\n",
            "epoch: 9, steps: 0, train_loss: 0.283, running_acc: 92.2 %\n",
            "epoch: 9, steps: 200, train_loss: 0.333, running_acc: 90.9 %\n",
            "epoch: 9, steps: 400, train_loss: 0.343, running_acc: 90.2 %\n",
            "Validation accuracy: 93.06 %\n",
            "Validation error rate:  6.94 %\n",
            "Finished Training\n"
          ]
        }
      ]
    },
    {
      "cell_type": "code",
      "metadata": {
        "id": "rPyw2dItbnQR",
        "colab": {
          "base_uri": "https://localhost:8080/",
          "height": 51
        },
        "outputId": "c981165a-4866-4710-a5cd-21111195bff3"
      },
      "source": [
        "# Evaluation\n",
        "with torch.no_grad():\n",
        "    correct = 0\n",
        "    total = 0\n",
        "    model.eval() # Set model in eval mode. Don’t forget!\n",
        "    for data in test_loader:\n",
        "        images, labels = data\n",
        "        images = images.view(-1, 28*28)\n",
        "        images = images.to(device)\n",
        "        labels = labels.to(device) # shape (B)\n",
        "        outputs = model(images) # shape (B, num_classes)\n",
        "        # ’outputs’ are logits (unnormalized log prob).\n",
        "        # Model prediction is the class which has the highest \n",
        "        # probability according to the model ,\n",
        "        # i.e. the class which has the highest logit value:\n",
        "        _, predicted = outputs.max(dim=1)\n",
        "        # predicted.shape: (B)\n",
        "        total += labels.size(0)\n",
        "        correct += (predicted == labels).sum().item()\n",
        "    test_acc = 100 * correct / total\n",
        "    print(f'Test accuracy: {test_acc} %')\n",
        "    print(f'Test error rate: {100 - 100 * correct / total: .2f} %')"
      ],
      "execution_count": null,
      "outputs": [
        {
          "output_type": "stream",
          "text": [
            "Test accuracy: 91.25 %\n",
            "Test error rate:  8.75 %\n"
          ],
          "name": "stdout"
        }
      ]
    },
    {
      "cell_type": "markdown",
      "metadata": {
        "id": "ILXkVuInoZPb"
      },
      "source": [
        "## Section 2"
      ]
    },
    {
      "cell_type": "code",
      "metadata": {
        "id": "cRUFuM1pnB2o"
      },
      "source": [
        "def create_dataset(means, std, sample_size, seed=None):\n",
        "    random_state = np.random.RandomState(seed)\n",
        "    X = np.zeros((sample_size, len(means[0])), dtype=np.float32)\n",
        "    Y = np.zeros((sample_size , len(means)), dtype=np.float32)\n",
        "    cov = np.eye(len(means[0])) * (std ** 2)\n",
        "    for i in range(sample_size):\n",
        "        c = random_state.randint(len(means))\n",
        "        X[i] = random_state.multivariate_normal(means[c], cov)\n",
        "        Y[i, c] = 1.\n",
        "    return X, Y"
      ],
      "execution_count": null,
      "outputs": []
    },
    {
      "cell_type": "code",
      "metadata": {
        "id": "EhVCZBXQpRBw",
        "colab": {
          "base_uri": "https://localhost:8080/",
          "height": 34
        },
        "outputId": "10262962-849a-42de-9361-388f5504c77d"
      },
      "source": [
        "sample_size = 500\n",
        "std = 0.5\n",
        "\n",
        "X, Y = create_dataset([(-1, 1), (1, -1)], std, sample_size, 0)\n",
        "\n",
        "labels = np.argmax(Y, axis=1)\n",
        "\n",
        "X.shape"
      ],
      "execution_count": null,
      "outputs": [
        {
          "output_type": "execute_result",
          "data": {
            "text/plain": [
              "(500, 2)"
            ]
          },
          "metadata": {
            "tags": []
          },
          "execution_count": 65
        }
      ]
    },
    {
      "cell_type": "code",
      "metadata": {
        "id": "qMcHjwXNqIOx",
        "colab": {
          "base_uri": "https://localhost:8080/",
          "height": 282
        },
        "outputId": "1c6032c0-c4dd-46cb-e4b8-5339dddf7269"
      },
      "source": [
        "plt.scatter(X[:, 0], X[:, 1], c=labels, cmap=plt.cm.RdBu)"
      ],
      "execution_count": null,
      "outputs": [
        {
          "output_type": "execute_result",
          "data": {
            "text/plain": [
              "<matplotlib.collections.PathCollection at 0x7fb6e4d66f28>"
            ]
          },
          "metadata": {
            "tags": []
          },
          "execution_count": 66
        },
        {
          "output_type": "display_data",
          "data": {
            "image/png": "[encoded data removed]",
            "text/plain": [
              "<Figure size 432x288 with 1 Axes>"
            ]
          },
          "metadata": {
            "tags": [],
            "needs_background": "light"
          }
        }
      ]
    },
    {
      "cell_type": "code",
      "metadata": {
        "id": "GNf_In9Ov2to"
      },
      "source": [
        "X_train = torch.from_numpy(X).to(device)  # copy data to GPU.\n",
        "labels = torch.from_numpy(labels).to(device)  # shape (B)."
      ],
      "execution_count": null,
      "outputs": []
    },
    {
      "cell_type": "code",
      "metadata": {
        "id": "xRoNWa4JrXkM"
      },
      "source": [
        "# Model\n",
        "input_size = 2\n",
        "num_classes = 2\n",
        "hidden_size = 256\n",
        "learning_rate = 0.1\n",
        "momentum = 0.9\n",
        "\n",
        "model = FFModel(input_size , hidden_size , num_classes)\n",
        "model = model.to(device)  # put all model params on GPU.\n",
        "# Create loss and optimizer\n",
        "loss_fn = nn.CrossEntropyLoss()\n",
        "optimizer = torch.optim.SGD(model.parameters(), lr=learning_rate, momentum=momentum)"
      ],
      "execution_count": null,
      "outputs": []
    },
    {
      "cell_type": "code",
      "metadata": {
        "id": "cqPSHrcdtDcs",
        "colab": {
          "base_uri": "https://localhost:8080/",
          "height": 1000
        },
        "outputId": "00abb06d-74c7-4e0d-f3eb-3fea4ce7c974"
      },
      "source": [
        "# Training\n",
        "\n",
        "num_epochs = 100\n",
        "\n",
        "for epoch in range(1, num_epochs):\n",
        "    model.train()\n",
        "    outputs = model(X_train)  # shape (B, 10).\n",
        "    loss = loss_fn(outputs, labels)\n",
        "    optimizer.zero_grad()  # reset gradients.\n",
        "    loss.backward()  # compute gradients.\n",
        "    optimizer.step()  # update parameters.\n",
        "    print(loss.item())"
      ],
      "execution_count": null,
      "outputs": [
        {
          "output_type": "stream",
          "text": [
            "0.8069146275520325\n",
            "0.12225550413131714\n",
            "0.030393214896321297\n",
            "0.018049338832497597\n",
            "0.015739068388938904\n",
            "0.015452316030859947\n",
            "0.015728214755654335\n",
            "0.016176540404558182\n",
            "0.016662783920764923\n",
            "0.017133843153715134\n",
            "0.017568957060575485\n",
            "0.017960956320166588\n",
            "0.01830935664474964\n",
            "0.01861697994172573\n",
            "0.018888238817453384\n",
            "0.01912747137248516\n",
            "0.019339295104146004\n",
            "0.019527854397892952\n",
            "0.01969669759273529\n",
            "0.019848722964525223\n",
            "0.019986212253570557\n",
            "0.020110832527279854\n",
            "0.020223768427968025\n",
            "0.02032579481601715\n",
            "0.020417366176843643\n",
            "0.020498745143413544\n",
            "0.020570075139403343\n",
            "0.020631415769457817\n",
            "0.02068287506699562\n",
            "0.020724622532725334\n",
            "0.02075730264186859\n",
            "0.02078108862042427\n",
            "0.020796144381165504\n",
            "0.020803464576601982\n",
            "0.020803168416023254\n",
            "0.020795879885554314\n",
            "0.02078230306506157\n",
            "0.02076316438615322\n",
            "0.020739199593663216\n",
            "0.02071114256978035\n",
            "0.020679660141468048\n",
            "0.020645396783947945\n",
            "0.02060895785689354\n",
            "0.020571382716298103\n",
            "0.02053314633667469\n",
            "0.0204941239207983\n",
            "0.020454639568924904\n",
            "0.02041495032608509\n",
            "0.020375244319438934\n",
            "0.020335672423243523\n",
            "0.020297452807426453\n",
            "0.020259615033864975\n",
            "0.020222119987010956\n",
            "0.020184975117444992\n",
            "0.02014816179871559\n",
            "0.020111652091145515\n",
            "0.020075445994734764\n",
            "0.02003948763012886\n",
            "0.020003776997327805\n",
            "0.01996828429400921\n",
            "0.019933005794882774\n",
            "0.019897939637303352\n",
            "0.01986309513449669\n",
            "0.019828496500849724\n",
            "0.01979362778365612\n",
            "0.01975851133465767\n",
            "0.01972351223230362\n",
            "0.019688697531819344\n",
            "0.019654085859656334\n",
            "0.019619714468717575\n",
            "0.019585631787776947\n",
            "0.01955186016857624\n",
            "0.019518401473760605\n",
            "0.019485291093587875\n",
            "0.019452527165412903\n",
            "0.019420141354203224\n",
            "0.019388100132346153\n",
            "0.019356409087777138\n",
            "0.019325075671076775\n",
            "0.01929408311843872\n",
            "0.01926342584192753\n",
            "0.019233088940382004\n",
            "0.019203059375286102\n",
            "0.019173339009284973\n",
            "0.019143907353281975\n",
            "0.019114751368761063\n",
            "0.019085871055722237\n",
            "0.01905667595565319\n",
            "0.019027404487133026\n",
            "0.018998388200998306\n",
            "0.018969781696796417\n",
            "0.018941327929496765\n",
            "0.018913021311163902\n",
            "0.01888488233089447\n",
            "0.018856918439269066\n",
            "0.01882988214492798\n",
            "0.018803125247359276\n",
            "0.01877656579017639\n",
            "0.018750205636024475\n"
          ],
          "name": "stdout"
        }
      ]
    },
    {
      "cell_type": "code",
      "metadata": {
        "id": "FgJE6lDAt6U2"
      },
      "source": [
        "# Plotting decision boundary\n",
        "grid_points = 100\n",
        "grid_range = np.linspace(-3, 3, grid_points)\n",
        "\n",
        "xx, yy = np.meshgrid(grid_range, grid_range)\n",
        "X_test = np.zeros((grid_points * grid_points, 2))\n",
        "X_test[:, 0] = xx.reshape(-1)\n",
        "X_test[:, 1] = yy.reshape(-1)"
      ],
      "execution_count": null,
      "outputs": []
    },
    {
      "cell_type": "code",
      "metadata": {
        "id": "HhwVS8HqJIt6",
        "colab": {
          "base_uri": "https://localhost:8080/",
          "height": 238
        },
        "outputId": "53523f79-277f-4e54-e842-7e5248ae7b66"
      },
      "source": [
        "xx"
      ],
      "execution_count": null,
      "outputs": [
        {
          "output_type": "execute_result",
          "data": {
            "text/plain": [
              "array([[-3.        , -2.93939394, -2.87878788, ...,  2.87878788,\n",
              "         2.93939394,  3.        ],\n",
              "       [-3.        , -2.93939394, -2.87878788, ...,  2.87878788,\n",
              "         2.93939394,  3.        ],\n",
              "       [-3.        , -2.93939394, -2.87878788, ...,  2.87878788,\n",
              "         2.93939394,  3.        ],\n",
              "       ...,\n",
              "       [-3.        , -2.93939394, -2.87878788, ...,  2.87878788,\n",
              "         2.93939394,  3.        ],\n",
              "       [-3.        , -2.93939394, -2.87878788, ...,  2.87878788,\n",
              "         2.93939394,  3.        ],\n",
              "       [-3.        , -2.93939394, -2.87878788, ...,  2.87878788,\n",
              "         2.93939394,  3.        ]])"
            ]
          },
          "metadata": {
            "tags": []
          },
          "execution_count": 79
        }
      ]
    },
    {
      "cell_type": "code",
      "metadata": {
        "id": "llTRmUrcxA9O"
      },
      "source": [
        "zz = model(torch.from_numpy(X_test).float().to(device)).detach()\n",
        "zz = torch.argmax(zz, 1)\n",
        "zz = zz.reshape(grid_points, grid_points)  # (100, 100)\n",
        "zz_cpu = zz.to('cpu').numpy()"
      ],
      "execution_count": null,
      "outputs": []
    },
    {
      "cell_type": "code",
      "metadata": {
        "id": "78M_AX7zzVRT",
        "colab": {
          "base_uri": "https://localhost:8080/",
          "height": 286
        },
        "outputId": "d1d4117d-4109-430c-beea-08c5d388b796"
      },
      "source": [
        "plt.contourf(xx, yy, zz_cpu, cmap=plt.cm.RdBu)\n",
        "plt.scatter(X[:, 0], X[:, 1], c=np.argmax(Y, axis=1), cmap=plt.cm.RdBu)"
      ],
      "execution_count": null,
      "outputs": [
        {
          "output_type": "execute_result",
          "data": {
            "text/plain": [
              "<matplotlib.collections.PathCollection at 0x7fb6e4a03f60>"
            ]
          },
          "metadata": {
            "tags": []
          },
          "execution_count": 72
        },
        {
          "output_type": "display_data",
          "data": {
            "image/png": "[encoded data removed]",
            "text/plain": [
              "<Figure size 432x288 with 1 Axes>"
            ]
          },
          "metadata": {
            "tags": [],
            "needs_background": "light"
          }
        }
      ]
    },
    {
      "cell_type": "code",
      "metadata": {
        "id": "ga5vpiMUzi4Z",
        "colab": {
          "base_uri": "https://localhost:8080/",
          "height": 284
        },
        "outputId": "dd7b8921-4556-4580-e88b-929180454938"
      },
      "source": [
        "# Try also this data\n",
        "\n",
        "from sklearn.datasets import make_moons\n",
        "\n",
        "X, y = make_moons(n_samples=500, noise=0.2)\n",
        "plt.scatter(X[:, 0], X[:, 1], c=y, cmap=plt.cm.RdBu)"
      ],
      "execution_count": null,
      "outputs": [
        {
          "output_type": "execute_result",
          "data": {
            "text/plain": [
              "<matplotlib.collections.PathCollection at 0x7fb6e4c10e10>"
            ]
          },
          "metadata": {
            "tags": []
          },
          "execution_count": 51
        },
        {
          "output_type": "display_data",
          "data": {
            "image/png": "[encoded data removed]",
            "text/plain": [
              "<Figure size 432x288 with 1 Axes>"
            ]
          },
          "metadata": {
            "tags": [],
            "needs_background": "light"
          }
        }
      ]
    },
    {
      "cell_type": "code",
      "metadata": {
        "id": "X5OKVI_icvux"
      },
      "source": [
        "X_train = torch.from_numpy(X).to(device)  # copy data to GPU.\n",
        "labels = torch.from_numpy(y).to(device)  # shape (B).\n",
        "\n",
        "X_train = X_train.float()"
      ],
      "execution_count": null,
      "outputs": []
    },
    {
      "cell_type": "code",
      "metadata": {
        "id": "7bL4rWV_c9P6"
      },
      "source": [
        "# Model\n",
        "input_size = 2\n",
        "num_classes = 2\n",
        "hidden_size = 512\n",
        "learning_rate = 0.1\n",
        "momentum = 0.9\n",
        "\n",
        "model = FFModel(input_size , hidden_size , num_classes)\n",
        "model = model.to(device)  # put all model params on GPU.\n",
        "# Create loss and optimizer\n",
        "loss_fn = nn.CrossEntropyLoss()\n",
        "optimizer = torch.optim.SGD(model.parameters(), lr=learning_rate, momentum=momentum)"
      ],
      "execution_count": null,
      "outputs": []
    },
    {
      "cell_type": "code",
      "metadata": {
        "id": "hrI5PBgBdBW3",
        "colab": {
          "base_uri": "https://localhost:8080/",
          "height": 1000
        },
        "outputId": "1145c494-7295-48cc-fe23-b3bcc9412fce"
      },
      "source": [
        "# Training\n",
        "\n",
        "num_epochs = 100\n",
        "\n",
        "for epoch in range(1, num_epochs):\n",
        "    model.train()\n",
        "    outputs = model(X_train)  # shape (B, 10).\n",
        "    loss = loss_fn(outputs, labels)\n",
        "    optimizer.zero_grad()  # reset gradients.\n",
        "    loss.backward()  # compute gradients.\n",
        "    optimizer.step()  # update parameters.\n",
        "    print(loss.item())"
      ],
      "execution_count": null,
      "outputs": [
        {
          "output_type": "stream",
          "text": [
            "0.6912484169006348\n",
            "0.5297375917434692\n",
            "0.3745833933353424\n",
            "0.4348207414150238\n",
            "0.49523648619651794\n",
            "0.48292139172554016\n",
            "0.47651857137680054\n",
            "0.4757867753505707\n",
            "0.45566895604133606\n",
            "0.4165985882282257\n",
            "0.3954399526119232\n",
            "0.41556063294410706\n",
            "0.41165798902511597\n",
            "0.40298500657081604\n",
            "0.3969293236732483\n",
            "0.3511301875114441\n",
            "0.3108482360839844\n",
            "0.29841509461402893\n",
            "0.2701471447944641\n",
            "0.2590487003326416\n",
            "0.2550284266471863\n",
            "0.23887017369270325\n",
            "0.24076925218105316\n",
            "0.23383072018623352\n",
            "0.2365431934595108\n",
            "0.2370949238538742\n",
            "0.23391415178775787\n",
            "0.22334757447242737\n",
            "0.21181650459766388\n",
            "0.19838669896125793\n",
            "0.18830715119838715\n",
            "0.18503175675868988\n",
            "0.179693341255188\n",
            "0.180831640958786\n",
            "0.1794436275959015\n",
            "0.17724305391311646\n",
            "0.17700399458408356\n",
            "0.17383000254631042\n",
            "0.17025434970855713\n",
            "0.16792935132980347\n",
            "0.16382412612438202\n",
            "0.15995846688747406\n",
            "0.15746843814849854\n",
            "0.15381857752799988\n",
            "0.1510435789823532\n",
            "0.14919818937778473\n",
            "0.14667576551437378\n",
            "0.14521320164203644\n",
            "0.14400658011436462\n",
            "0.14226239919662476\n",
            "0.14123223721981049\n",
            "0.13984481990337372\n",
            "0.1380854994058609\n",
            "0.13672426342964172\n",
            "0.13497966527938843\n",
            "0.13319799304008484\n",
            "0.1318037360906601\n",
            "0.13026298582553864\n",
            "0.12888844311237335\n",
            "0.1278592050075531\n",
            "0.1267407387495041\n",
            "0.12574613094329834\n",
            "0.12493552267551422\n",
            "0.1239967867732048\n",
            "0.12308181822299957\n",
            "0.12225230038166046\n",
            "0.12131485342979431\n",
            "0.12038873881101608\n",
            "0.11955057829618454\n",
            "0.11866571009159088\n",
            "0.11780295521020889\n",
            "0.11702883988618851\n",
            "0.1162489503622055\n",
            "0.11548978835344315\n",
            "0.11481094360351562\n",
            "0.11414424329996109\n",
            "0.1134905070066452\n",
            "0.11289428919553757\n",
            "0.11231020838022232\n",
            "0.11171961575746536\n",
            "0.11115995794534683\n",
            "0.11061184853315353\n",
            "0.1100555807352066\n",
            "0.10952070355415344\n",
            "0.10900382697582245\n",
            "0.10848668217658997\n",
            "0.10798965394496918\n",
            "0.10751833766698837\n",
            "0.10705555230379105\n",
            "0.10660573095083237\n",
            "0.10617617517709732\n",
            "0.10575594007968903\n",
            "0.10534145683050156\n",
            "0.10494175553321838\n",
            "0.10455221682786942\n",
            "0.10416758060455322\n",
            "0.10379335284233093\n",
            "0.10342936962842941\n",
            "0.10307107865810394\n"
          ],
          "name": "stdout"
        }
      ]
    },
    {
      "cell_type": "code",
      "metadata": {
        "id": "R2-MN8dDeIaC"
      },
      "source": [
        "# Plotting decision boundary\n",
        "grid_points = 100\n",
        "grid_range = np.linspace(-2, 2.5, grid_points)\n",
        "\n",
        "xx, yy = np.meshgrid(grid_range, grid_range)\n",
        "X_test = np.zeros((grid_points * grid_points, 2))\n",
        "X_test[:, 0] = xx.reshape(-1)\n",
        "X_test[:, 1] = yy.reshape(-1)"
      ],
      "execution_count": null,
      "outputs": []
    },
    {
      "cell_type": "code",
      "metadata": {
        "id": "j4RZUm0UeOTQ"
      },
      "source": [
        "zz = model(torch.from_numpy(X_test).float().to(device)).detach()\n",
        "zz = torch.argmax(zz, 1)\n",
        "zz = zz.reshape(grid_points, grid_points)  # (100, 100)\n",
        "zz_cpu = zz.to('cpu').numpy()"
      ],
      "execution_count": null,
      "outputs": []
    },
    {
      "cell_type": "code",
      "metadata": {
        "id": "4sReKjgJeT58",
        "colab": {
          "base_uri": "https://localhost:8080/",
          "height": 286
        },
        "outputId": "56b4c4e5-5e7d-4943-e840-917532db4a8a"
      },
      "source": [
        "plt.contourf(xx, yy, zz_cpu, cmap=plt.cm.RdBu)\n",
        "plt.scatter(X[:, 0], X[:, 1], c=y, cmap=plt.cm.RdBu)"
      ],
      "execution_count": null,
      "outputs": [
        {
          "output_type": "execute_result",
          "data": {
            "text/plain": [
              "<matplotlib.collections.PathCollection at 0x7fb6e5778b70>"
            ]
          },
          "metadata": {
            "tags": []
          },
          "execution_count": 29
        },
        {
          "output_type": "display_data",
          "data": {
            "image/png": "[encoded data removed]",
            "text/plain": [
              "<Figure size 432x288 with 1 Axes>"
            ]
          },
          "metadata": {
            "tags": [],
            "needs_background": "light"
          }
        }
      ]
    },
    {
      "cell_type": "code",
      "metadata": {
        "id": "_UV--uM4jZ6C"
      },
      "source": [
        "# what if the model had more layers?"
      ],
      "execution_count": null,
      "outputs": []
    }
  ]
}