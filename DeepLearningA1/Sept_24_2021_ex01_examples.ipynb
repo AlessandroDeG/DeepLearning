{
 "cells": [
  {
   "cell_type": "markdown",
   "metadata": {
    "id": "XRJK1iVQEfqf"
   },
   "source": [
    "# Deep Learning Lab - Exercise 1, Sept 24, 2021\n"
   ]
  },
  {
   "cell_type": "markdown",
   "metadata": {
    "id": "Gi6GuczxIT58"
   },
   "source": [
    "### This is the draft notebook which has been shown during the exercise 1, containing some examples of things you should have tried yourself!"
   ]
  },
  {
   "cell_type": "markdown",
   "metadata": {
    "id": "EVLz9ZSruD74"
   },
   "source": [
    "## 2.1 Those who are not familiar with Python"
   ]
  },
  {
   "cell_type": "code",
   "execution_count": 1,
   "metadata": {
    "colab": {
     "base_uri": "https://localhost:8080/"
    },
    "id": "kn7pWbQ1EXd1",
    "outputId": "2b0d6184-ed63-419f-cc17-57df04727cbe"
   },
   "outputs": [
    {
     "name": "stdout",
     "output_type": "stream",
     "text": [
      "5\n"
     ]
    }
   ],
   "source": [
    "# Basic arithmetics\n",
    "x = 5\n",
    "y = x + 1\n",
    "print(x)"
   ]
  },
  {
   "cell_type": "code",
   "execution_count": 2,
   "metadata": {
    "colab": {
     "base_uri": "https://localhost:8080/"
    },
    "id": "4fBFkXGYtN7W",
    "outputId": "d0b7d8ef-b8c9-4707-e8d6-c556b8af6939"
   },
   "outputs": [
    {
     "name": "stdout",
     "output_type": "stream",
     "text": [
      "5 plus 1 is 6\n",
      "this: 3.3333333333333335 and this: 3.33\n"
     ]
    }
   ],
   "source": [
    "# Printing with f-string\n",
    "\n",
    "print(f\"5 plus 1 is {y}\")\n",
    "print(f\"this: {10 / 3} and this: {10 / 3 :.2f}\")"
   ]
  },
  {
   "cell_type": "code",
   "execution_count": 3,
   "metadata": {
    "colab": {
     "base_uri": "https://localhost:8080/"
    },
    "id": "DnUgXcQCuQBt",
    "outputId": "8d999d79-7ad9-42a9-8952-8601cf158daa"
   },
   "outputs": [
    {
     "name": "stdout",
     "output_type": "stream",
     "text": [
      "type of y is <class 'int'>\n",
      "type of z is <class 'float'>\n"
     ]
    }
   ],
   "source": [
    "# type\n",
    "\n",
    "z = 0.5\n",
    "print(f\"type of y is {type(y)}\")\n",
    "print(f\"type of z is {type(z)}\")"
   ]
  },
  {
   "cell_type": "code",
   "execution_count": 4,
   "metadata": {
    "colab": {
     "base_uri": "https://localhost:8080/"
    },
    "id": "bLx5uOuckUtF",
    "outputId": "8460efaf-d530-4756-fb90-0dc8c0177e4e"
   },
   "outputs": [
    {
     "name": "stdout",
     "output_type": "stream",
     "text": [
      "[2, 4, 5]\n"
     ]
    }
   ],
   "source": [
    "# list\n",
    "\n",
    "my_list = [2, 4, 5]\n",
    "print(my_list)"
   ]
  },
  {
   "cell_type": "code",
   "execution_count": 5,
   "metadata": {
    "colab": {
     "base_uri": "https://localhost:8080/"
    },
    "id": "jzK67WCqwMI-",
    "outputId": "83faec74-e237-403a-efbe-143c5978c6a5"
   },
   "outputs": [
    {
     "name": "stdout",
     "output_type": "stream",
     "text": [
      "2\n"
     ]
    }
   ],
   "source": [
    "# index start at 0.\n",
    "print(my_list[0])"
   ]
  },
  {
   "cell_type": "code",
   "execution_count": 6,
   "metadata": {
    "colab": {
     "base_uri": "https://localhost:8080/"
    },
    "id": "sYRquWUvkjkb",
    "outputId": "ea13a332-23e7-4685-e8db-04e8388eaf38"
   },
   "outputs": [
    {
     "name": "stdout",
     "output_type": "stream",
     "text": [
      "hello, welcome to deep learning lab\n"
     ]
    }
   ],
   "source": [
    "# strings\n",
    "\n",
    "hello = \"hello\"\n",
    "sentence = \"welcome to deep learning lab\"\n",
    "print(hello + \", \" + sentence)"
   ]
  },
  {
   "cell_type": "code",
   "execution_count": 7,
   "metadata": {
    "colab": {
     "base_uri": "https://localhost:8080/"
    },
    "id": "Xn2I0GPIkhCB",
    "outputId": "9abaf219-7183-4c0e-fc88-3b5ea4e5cf63"
   },
   "outputs": [
    {
     "name": "stdout",
     "output_type": "stream",
     "text": [
      "come to\n"
     ]
    }
   ],
   "source": [
    "print(sentence[3:10])"
   ]
  },
  {
   "cell_type": "code",
   "execution_count": 8,
   "metadata": {
    "colab": {
     "base_uri": "https://localhost:8080/"
    },
    "id": "M9-hA_K-tjg-",
    "outputId": "02eeecf8-165f-4aec-ebde-b137f2d7ebfb"
   },
   "outputs": [
    {
     "data": {
      "text/plain": [
       "['welcome', 'to', 'deep', 'learning', 'lab']"
      ]
     },
     "execution_count": 8,
     "metadata": {},
     "output_type": "execute_result"
    }
   ],
   "source": [
    "sentence.split()  # this is a list."
   ]
  },
  {
   "cell_type": "code",
   "execution_count": 9,
   "metadata": {
    "colab": {
     "base_uri": "https://localhost:8080/"
    },
    "id": "1EQg9nJdv1Gn",
    "outputId": "a38479ec-04a5-4d2f-bd0d-c8f83443bf2d"
   },
   "outputs": [
    {
     "name": "stdout",
     "output_type": "stream",
     "text": [
      "length of this list is: 5\n",
      "third word of the sentence is: deep\n"
     ]
    }
   ],
   "source": [
    "L = sentence.split()\n",
    "print(f\"length of this list is: {len(L)}\")\n",
    "\n",
    "print(f\"third word of the sentence is: {L[2]}\")"
   ]
  },
  {
   "cell_type": "code",
   "execution_count": 10,
   "metadata": {
    "colab": {
     "base_uri": "https://localhost:8080/"
    },
    "id": "LWDTiw9lt48S",
    "outputId": "27f045b5-8c07-4589-b129-729234bf8856"
   },
   "outputs": [
    {
     "name": "stdout",
     "output_type": "stream",
     "text": [
      "welcome\n",
      "to\n",
      "deep\n",
      "learning\n",
      "lab\n",
      "----------\n"
     ]
    }
   ],
   "source": [
    "# Loops\n",
    "\n",
    "# you can iterate over a list\n",
    "for word in sentence.split():\n",
    "  print(word)\n",
    "\n",
    "print(\"----------\")"
   ]
  },
  {
   "cell_type": "code",
   "execution_count": 11,
   "metadata": {
    "colab": {
     "base_uri": "https://localhost:8080/"
    },
    "id": "CfPUjiunk6ZB",
    "outputId": "12cdcc57-7cdc-4526-cafe-c686deb87976"
   },
   "outputs": [
    {
     "name": "stdout",
     "output_type": "stream",
     "text": [
      "0 welcome\n",
      "1 to\n",
      "2 deep\n",
      "3 learning\n",
      "4 lab\n"
     ]
    }
   ],
   "source": [
    "# loop over index\n",
    "for i in range(len(L)):\n",
    "\n",
    "  print(i, L[i])"
   ]
  },
  {
   "cell_type": "code",
   "execution_count": 12,
   "metadata": {
    "colab": {
     "base_uri": "https://localhost:8080/"
    },
    "id": "Rx-khDIXvFdt",
    "outputId": "e8510665-71d7-47f1-b8a6-27a6c765c061"
   },
   "outputs": [
    {
     "name": "stdout",
     "output_type": "stream",
     "text": [
      "apple 4\n",
      "banana 2\n",
      "orange 5\n"
     ]
    }
   ],
   "source": [
    "# dictionary:\n",
    "\n",
    "basket = {'apple': 4, 'banana': 2, 'orange': 5}\n",
    "\n",
    "# iterate over key/value\n",
    "for fruit, count in basket.items():\n",
    "    print(fruit, count)"
   ]
  },
  {
   "cell_type": "code",
   "execution_count": 13,
   "metadata": {
    "colab": {
     "base_uri": "https://localhost:8080/"
    },
    "id": "zmbNite1xzVF",
    "outputId": "c62e1fe5-064a-4ff6-f5d3-9715e6501c8c"
   },
   "outputs": [
    {
     "name": "stdout",
     "output_type": "stream",
     "text": [
      "pair is (12, 14)\n"
     ]
    }
   ],
   "source": [
    "# tuples\n",
    "\n",
    "pair = (12, 14)\n",
    "print(f\"pair is {pair}\")\n"
   ]
  },
  {
   "cell_type": "code",
   "execution_count": 14,
   "metadata": {
    "colab": {
     "base_uri": "https://localhost:8080/"
    },
    "id": "HvFOG_iXlFgH",
    "outputId": "4049c4a4-b494-4483-8e7b-954012a68140"
   },
   "outputs": [
    {
     "name": "stdout",
     "output_type": "stream",
     "text": [
      "first element 12\n",
      "second element 14\n"
     ]
    }
   ],
   "source": [
    "# unpacking\n",
    "a, b = pair\n",
    "print(f\"first element {a}\")\n",
    "print(f\"second element {b}\")"
   ]
  },
  {
   "cell_type": "code",
   "execution_count": 15,
   "metadata": {
    "colab": {
     "base_uri": "https://localhost:8080/"
    },
    "id": "S9nGGHQvxUZr",
    "outputId": "5dfbd4bd-4a2e-4b54-e79a-fb3782e1cc98"
   },
   "outputs": [
    {
     "name": "stdout",
     "output_type": "stream",
     "text": [
      "False\n",
      "--------\n"
     ]
    }
   ],
   "source": [
    "# booleans\n",
    "\n",
    "a = True\n",
    "b = False\n",
    "\n",
    "print(a and b)\n",
    "\n",
    "print(\"--------\")"
   ]
  },
  {
   "cell_type": "code",
   "execution_count": 16,
   "metadata": {
    "colab": {
     "base_uri": "https://localhost:8080/"
    },
    "id": "B9S-xmWtlNLx",
    "outputId": "12d726ac-278f-48a7-af3f-a7332d516c32"
   },
   "outputs": [
    {
     "name": "stdout",
     "output_type": "stream",
     "text": [
      "a is True\n",
      "False\n"
     ]
    }
   ],
   "source": [
    "if a:\n",
    "  print('a is True')\n",
    "  print(b)"
   ]
  },
  {
   "cell_type": "markdown",
   "metadata": {
    "id": "KjYLUmLJvrEk"
   },
   "source": [
    "# 2.2 Numpy"
   ]
  },
  {
   "cell_type": "code",
   "execution_count": 17,
   "metadata": {
    "id": "CfB2KKLPxObx"
   },
   "outputs": [],
   "source": [
    "import numpy as np"
   ]
  },
  {
   "cell_type": "code",
   "execution_count": 18,
   "metadata": {
    "colab": {
     "base_uri": "https://localhost:8080/"
    },
    "id": "KD9vVL-xxPq6",
    "outputId": "48c6d6b9-3989-4f05-9bee-e37ef58bcb90"
   },
   "outputs": [
    {
     "name": "stdout",
     "output_type": "stream",
     "text": [
      "[[1 2 3]\n",
      " [4 5 6]]\n"
     ]
    }
   ],
   "source": [
    "# creating array\n",
    "a = np.array([[1, 2, 3], [4, 5, 6]])\n",
    "print(a)"
   ]
  },
  {
   "cell_type": "code",
   "execution_count": 19,
   "metadata": {
    "colab": {
     "base_uri": "https://localhost:8080/"
    },
    "id": "8XYVnLV0x9fB",
    "outputId": "f327a164-072c-42ef-f32b-6d56fbbd45c2"
   },
   "outputs": [
    {
     "name": "stdout",
     "output_type": "stream",
     "text": [
      "(2, 3)\n"
     ]
    }
   ],
   "source": [
    "# check shape\n",
    "print(a.shape)"
   ]
  },
  {
   "cell_type": "code",
   "execution_count": 20,
   "metadata": {
    "colab": {
     "base_uri": "https://localhost:8080/"
    },
    "id": "LfTmH8cMzw-F",
    "outputId": "a67a6036-6ec0-4323-8432-53cb2e9597f8"
   },
   "outputs": [
    {
     "name": "stdout",
     "output_type": "stream",
     "text": [
      "int64\n"
     ]
    }
   ],
   "source": [
    "print(a.dtype)"
   ]
  },
  {
   "cell_type": "code",
   "execution_count": 21,
   "metadata": {
    "colab": {
     "base_uri": "https://localhost:8080/"
    },
    "id": "Cx3rsQm7yEW6",
    "outputId": "a6270240-27d7-47ff-d227-0f26bb46926d"
   },
   "outputs": [
    {
     "name": "stdout",
     "output_type": "stream",
     "text": [
      "[1. 2. 3.]\n"
     ]
    }
   ],
   "source": [
    "# Python list\n",
    "my_list = [1, 2, 3]\n",
    "\n",
    "b = np.asarray(my_list, dtype=np.float32)\n",
    "print(b)"
   ]
  },
  {
   "cell_type": "code",
   "execution_count": 22,
   "metadata": {
    "colab": {
     "base_uri": "https://localhost:8080/"
    },
    "id": "ODocylOcyJkD",
    "outputId": "a3bc2bad-5312-4093-c876-c23abc38cbcd"
   },
   "outputs": [
    {
     "data": {
      "text/plain": [
       "array([[0.94799352, 0.62085102, 0.84129606],\n",
       "       [0.14210153, 0.75817598, 0.76749312],\n",
       "       [0.71680472, 0.02659154, 0.32163245],\n",
       "       [0.43952601, 0.0173776 , 0.74961323]])"
      ]
     },
     "execution_count": 22,
     "metadata": {},
     "output_type": "execute_result"
    }
   ],
   "source": [
    "# random \n",
    "x = np.random.rand(4, 3)\n",
    "x"
   ]
  },
  {
   "cell_type": "code",
   "execution_count": 23,
   "metadata": {
    "colab": {
     "base_uri": "https://localhost:8080/"
    },
    "id": "Dv80_wDVz4_c",
    "outputId": "e0e79167-a5fc-491a-d27b-aed21c276428"
   },
   "outputs": [
    {
     "data": {
      "text/plain": [
       "array([[1., 0., 0.],\n",
       "       [0., 1., 0.],\n",
       "       [0., 0., 1.],\n",
       "       [0., 0., 0.]])"
      ]
     },
     "execution_count": 23,
     "metadata": {},
     "output_type": "execute_result"
    }
   ],
   "source": [
    "# built-in constructor\n",
    "x2 = np.eye(4, 3)\n",
    "x2"
   ]
  },
  {
   "cell_type": "code",
   "execution_count": 24,
   "metadata": {
    "colab": {
     "base_uri": "https://localhost:8080/"
    },
    "id": "RDMvfWuW0FWZ",
    "outputId": "7c76ae57-edc8-4432-9417-37e3066dbfd7"
   },
   "outputs": [
    {
     "name": "stdout",
     "output_type": "stream",
     "text": [
      "addition -----------\n",
      "[[1.94799352 0.62085102 0.84129606]\n",
      " [0.14210153 1.75817598 0.76749312]\n",
      " [0.71680472 0.02659154 1.32163245]\n",
      " [0.43952601 0.0173776  0.74961323]] \n",
      "\n",
      "multiplication -----------\n",
      "[[0.94799352 0.         0.        ]\n",
      " [0.         0.75817598 0.        ]\n",
      " [0.         0.         0.32163245]\n",
      " [0.         0.         0.        ]] \n",
      "\n",
      "mul with a scalar -----------\n",
      "[[1.89598705 1.24170204 1.68259211]\n",
      " [0.28420306 1.51635196 1.53498625]\n",
      " [1.43360943 0.05318308 0.6432649 ]\n",
      " [0.87905203 0.03475519 1.49922647]] \n",
      "\n",
      "division -----------\n",
      "[[1.05485953 0.         0.        ]\n",
      " [0.         1.318955   0.        ]\n",
      " [0.         0.         3.10913902]\n",
      " [0.         0.         0.        ]] \n",
      "\n",
      "exponent -----------\n",
      "[[4. 0. 0.]\n",
      " [0. 4. 0.]\n",
      " [0. 0. 4.]\n",
      " [0. 0. 0.]]\n"
     ]
    }
   ],
   "source": [
    "# element-wise operations\n",
    "print(\"addition -----------\")\n",
    "print(x + x2, '\\n')\n",
    "\n",
    "print(\"multiplication -----------\")\n",
    "print(x * x2, '\\n')\n",
    "\n",
    "print(\"mul with a scalar -----------\")\n",
    "print(2 * x, '\\n')\n",
    "\n",
    "print(\"division -----------\")\n",
    "print(x2 / x, '\\n')\n",
    "\n",
    "print(\"exponent -----------\")\n",
    "print((2 * x2) ** 2)"
   ]
  },
  {
   "cell_type": "code",
   "execution_count": 25,
   "metadata": {
    "id": "QccjDOZ5zKpQ"
   },
   "outputs": [],
   "source": [
    "y = np.random.rand(3, 4)"
   ]
  },
  {
   "cell_type": "code",
   "execution_count": 26,
   "metadata": {
    "colab": {
     "base_uri": "https://localhost:8080/"
    },
    "id": "_scRA6n24fIX",
    "outputId": "f14ab5f8-2a0a-428c-e335-e9d37d84cd50"
   },
   "outputs": [
    {
     "data": {
      "text/plain": [
       "(4, 3)"
      ]
     },
     "execution_count": 26,
     "metadata": {},
     "output_type": "execute_result"
    }
   ],
   "source": [
    "x.shape"
   ]
  },
  {
   "cell_type": "code",
   "execution_count": 27,
   "metadata": {
    "colab": {
     "base_uri": "https://localhost:8080/"
    },
    "id": "9u4QcZzM4oKz",
    "outputId": "60e2f67a-1a99-4c59-f2a2-83098abfe04c"
   },
   "outputs": [
    {
     "data": {
      "text/plain": [
       "(3, 4)"
      ]
     },
     "execution_count": 27,
     "metadata": {},
     "output_type": "execute_result"
    }
   ],
   "source": [
    "y.shape"
   ]
  },
  {
   "cell_type": "code",
   "execution_count": 28,
   "metadata": {
    "colab": {
     "base_uri": "https://localhost:8080/"
    },
    "id": "jHMse3CEzWQf",
    "outputId": "a0bc5006-304b-4744-867f-34f171f04787"
   },
   "outputs": [
    {
     "data": {
      "text/plain": [
       "array([[1.14982517, 1.18365404, 2.01055163, 1.23172265],\n",
       "       [0.76661714, 0.99220925, 1.31415259, 0.6932877 ],\n",
       "       [0.53885946, 0.41060064, 0.90906134, 0.60906507],\n",
       "       [0.65036698, 0.53774828, 0.86844873, 0.45463272]])"
      ]
     },
     "execution_count": 28,
     "metadata": {},
     "output_type": "execute_result"
    }
   ],
   "source": [
    "# matrix multiplication\n",
    "z = x @ y\n",
    "z"
   ]
  },
  {
   "cell_type": "code",
   "execution_count": 29,
   "metadata": {
    "colab": {
     "base_uri": "https://localhost:8080/"
    },
    "id": "wG_8SpSa1d55",
    "outputId": "907779ab-0cb0-47e7-a938-c36c70616902"
   },
   "outputs": [
    {
     "data": {
      "text/plain": [
       "(4, 4)"
      ]
     },
     "execution_count": 29,
     "metadata": {},
     "output_type": "execute_result"
    }
   ],
   "source": [
    "z.shape"
   ]
  },
  {
   "cell_type": "code",
   "execution_count": 30,
   "metadata": {
    "colab": {
     "base_uri": "https://localhost:8080/"
    },
    "id": "dJbquAyQ00wc",
    "outputId": "b9dce41d-5a75-4698-ab2a-85feac604bda"
   },
   "outputs": [
    {
     "data": {
      "text/plain": [
       "array([[1.14982517, 1.18365404, 2.01055163, 1.23172265],\n",
       "       [0.76661714, 0.99220925, 1.31415259, 0.6932877 ],\n",
       "       [0.53885946, 0.41060064, 0.90906134, 0.60906507],\n",
       "       [0.65036698, 0.53774828, 0.86844873, 0.45463272]])"
      ]
     },
     "execution_count": 30,
     "metadata": {},
     "output_type": "execute_result"
    }
   ],
   "source": [
    "z1 = np.matmul(x, y)\n",
    "z1"
   ]
  },
  {
   "cell_type": "code",
   "execution_count": 31,
   "metadata": {
    "colab": {
     "base_uri": "https://localhost:8080/"
    },
    "id": "YTW5OB0P1Y9i",
    "outputId": "341cd4b6-e582-4517-9f02-c14ada391099"
   },
   "outputs": [
    {
     "data": {
      "text/plain": [
       "array([[1.14982517, 1.18365404, 2.01055163, 1.23172265],\n",
       "       [0.76661714, 0.99220925, 1.31415259, 0.6932877 ],\n",
       "       [0.53885946, 0.41060064, 0.90906134, 0.60906507],\n",
       "       [0.65036698, 0.53774828, 0.86844873, 0.45463272]])"
      ]
     },
     "execution_count": 31,
     "metadata": {},
     "output_type": "execute_result"
    }
   ],
   "source": [
    "z2 = x.dot(y)\n",
    "z2"
   ]
  },
  {
   "cell_type": "code",
   "execution_count": 32,
   "metadata": {
    "colab": {
     "base_uri": "https://localhost:8080/"
    },
    "id": "h_YqWfiJzXCi",
    "outputId": "245788ac-c183-4a9e-f95f-0ad85529d391"
   },
   "outputs": [
    {
     "data": {
      "text/plain": [
       "array([[1.14982517, 1.18365404, 2.01055163, 1.23172265],\n",
       "       [0.76661714, 0.99220925, 1.31415259, 0.6932877 ],\n",
       "       [0.53885946, 0.41060064, 0.90906134, 0.60906507],\n",
       "       [0.65036698, 0.53774828, 0.86844873, 0.45463272]])"
      ]
     },
     "execution_count": 32,
     "metadata": {},
     "output_type": "execute_result"
    }
   ],
   "source": [
    "z"
   ]
  },
  {
   "cell_type": "code",
   "execution_count": 33,
   "metadata": {
    "colab": {
     "base_uri": "https://localhost:8080/"
    },
    "id": "T1s9by1Cza2D",
    "outputId": "6da3e328-9bcc-4f03-ab6b-fbc93a5d608d"
   },
   "outputs": [
    {
     "data": {
      "text/plain": [
       "array([1.14982517, 1.18365404, 2.01055163, 1.23172265])"
      ]
     },
     "execution_count": 33,
     "metadata": {},
     "output_type": "execute_result"
    }
   ],
   "source": [
    "z.max(0)"
   ]
  },
  {
   "cell_type": "code",
   "execution_count": 34,
   "metadata": {
    "colab": {
     "base_uri": "https://localhost:8080/"
    },
    "id": "L9EiidfN1nZQ",
    "outputId": "fa5c5a1c-150e-48a3-d038-58b0c61d3e26"
   },
   "outputs": [
    {
     "data": {
      "text/plain": [
       "array([2.01055163, 1.31415259, 0.90906134, 0.86844873])"
      ]
     },
     "execution_count": 34,
     "metadata": {},
     "output_type": "execute_result"
    }
   ],
   "source": [
    "z.max(1)"
   ]
  },
  {
   "cell_type": "code",
   "execution_count": 35,
   "metadata": {
    "colab": {
     "base_uri": "https://localhost:8080/"
    },
    "id": "9A3FYsQh1tNT",
    "outputId": "cfde79c1-eb59-48c4-fe24-5737f202d0f5"
   },
   "outputs": [
    {
     "data": {
      "text/plain": [
       "2.0105516308440516"
      ]
     },
     "execution_count": 35,
     "metadata": {},
     "output_type": "execute_result"
    }
   ],
   "source": [
    "z.max()"
   ]
  },
  {
   "cell_type": "code",
   "execution_count": 36,
   "metadata": {
    "colab": {
     "base_uri": "https://localhost:8080/"
    },
    "id": "SwjHSsBp1xqg",
    "outputId": "cf3129bf-b4fb-43b9-b46b-65827a6d5671"
   },
   "outputs": [
    {
     "data": {
      "text/plain": [
       "array([0, 1, 2, 3, 4, 5, 6, 7, 8, 9])"
      ]
     },
     "execution_count": 36,
     "metadata": {},
     "output_type": "execute_result"
    }
   ],
   "source": [
    "np.arange(10)"
   ]
  },
  {
   "cell_type": "code",
   "execution_count": 37,
   "metadata": {
    "id": "X7BOU1lR3V7u"
   },
   "outputs": [],
   "source": [
    "z_reshaped = z.reshape(2, 8)"
   ]
  },
  {
   "cell_type": "code",
   "execution_count": 38,
   "metadata": {
    "colab": {
     "base_uri": "https://localhost:8080/"
    },
    "id": "wWkfqdng3bP9",
    "outputId": "4b7d06b2-d227-487d-920b-cd55fc0a44cf"
   },
   "outputs": [
    {
     "data": {
      "text/plain": [
       "(2, 8)"
      ]
     },
     "execution_count": 38,
     "metadata": {},
     "output_type": "execute_result"
    }
   ],
   "source": [
    "z_reshaped.shape"
   ]
  },
  {
   "cell_type": "code",
   "execution_count": 39,
   "metadata": {
    "colab": {
     "base_uri": "https://localhost:8080/"
    },
    "id": "kHg1gR6-3ira",
    "outputId": "df439c7b-4993-41aa-ccf8-ae027e84d8fd"
   },
   "outputs": [
    {
     "data": {
      "text/plain": [
       "array([ True, False,  True,  True])"
      ]
     },
     "execution_count": 39,
     "metadata": {},
     "output_type": "execute_result"
    }
   ],
   "source": [
    "boo = np.array([True, False, True, True])\n",
    "boo"
   ]
  },
  {
   "cell_type": "code",
   "execution_count": 40,
   "metadata": {
    "colab": {
     "base_uri": "https://localhost:8080/"
    },
    "id": "HxLeR3Nf5ypW",
    "outputId": "13aeb209-175e-4a74-d7b7-03450831a88f"
   },
   "outputs": [
    {
     "data": {
      "text/plain": [
       "array([False,  True, False, False])"
      ]
     },
     "execution_count": 40,
     "metadata": {},
     "output_type": "execute_result"
    }
   ],
   "source": [
    "~boo"
   ]
  },
  {
   "cell_type": "code",
   "execution_count": 41,
   "metadata": {
    "id": "-BM0Ai_H5iHh"
   },
   "outputs": [],
   "source": [
    "q = np.array([1, 2, 3, 4])"
   ]
  },
  {
   "cell_type": "code",
   "execution_count": 42,
   "metadata": {
    "colab": {
     "base_uri": "https://localhost:8080/"
    },
    "id": "et3b5ypB5iuS",
    "outputId": "c6f2f90a-475a-4f0a-812a-322e327e5eed"
   },
   "outputs": [
    {
     "data": {
      "text/plain": [
       "array([1, 3, 4])"
      ]
     },
     "execution_count": 42,
     "metadata": {},
     "output_type": "execute_result"
    }
   ],
   "source": [
    "q[boo]"
   ]
  },
  {
   "cell_type": "code",
   "execution_count": 43,
   "metadata": {
    "colab": {
     "base_uri": "https://localhost:8080/"
    },
    "id": "x2Bx6Bu55p-2",
    "outputId": "cc7800b9-16bf-4032-c354-6fbe71cdee7b"
   },
   "outputs": [
    {
     "data": {
      "text/plain": [
       "array([2])"
      ]
     },
     "execution_count": 43,
     "metadata": {},
     "output_type": "execute_result"
    }
   ],
   "source": [
    "q[~boo]"
   ]
  },
  {
   "cell_type": "code",
   "execution_count": 44,
   "metadata": {
    "id": "6QON-UZ66fyV"
   },
   "outputs": [],
   "source": [
    "elements = [2, 3]"
   ]
  },
  {
   "cell_type": "code",
   "execution_count": 45,
   "metadata": {
    "colab": {
     "base_uri": "https://localhost:8080/"
    },
    "id": "PIpsr_3H6mUd",
    "outputId": "d1fbb392-f87e-40fd-a633-86697dab2968"
   },
   "outputs": [
    {
     "data": {
      "text/plain": [
       "array([3, 4])"
      ]
     },
     "execution_count": 45,
     "metadata": {},
     "output_type": "execute_result"
    }
   ],
   "source": [
    "q[elements]"
   ]
  },
  {
   "cell_type": "code",
   "execution_count": 46,
   "metadata": {
    "colab": {
     "base_uri": "https://localhost:8080/"
    },
    "id": "_YhRr5dq6nXK",
    "outputId": "229436b5-c32b-4c7c-c165-7f859950a5fc"
   },
   "outputs": [
    {
     "data": {
      "text/plain": [
       "array([0.        , 0.69314718, 1.09861229, 1.38629436])"
      ]
     },
     "execution_count": 46,
     "metadata": {},
     "output_type": "execute_result"
    }
   ],
   "source": [
    "# apply a function to each element\n",
    "np.log(q)"
   ]
  },
  {
   "cell_type": "markdown",
   "metadata": {
    "id": "PKjI_py_lUyZ"
   },
   "source": [
    "# Simple applications"
   ]
  },
  {
   "cell_type": "code",
   "execution_count": 47,
   "metadata": {
    "colab": {
     "base_uri": "https://localhost:8080/"
    },
    "id": "FqPycQNglYR6",
    "outputId": "fc209ab0-af3f-4dc5-9bc6-aa0d605667ac"
   },
   "outputs": [
    {
     "data": {
      "text/plain": [
       "60.0"
      ]
     },
     "execution_count": 47,
     "metadata": {},
     "output_type": "execute_result"
    }
   ],
   "source": [
    "# Question: can I pass DLL if I skip the last assignment?\n",
    "import numpy as np\n",
    "\n",
    "# dot product\n",
    "\n",
    "weights = np.array([0.15, 0.20, 0.25, 0.40])\n",
    "\n",
    "my_score = (100, 100, 100, 0)\n",
    "my_score_arr = np.asarray(my_score)\n",
    "\n",
    "weights.dot(my_score_arr)"
   ]
  },
  {
   "cell_type": "code",
   "execution_count": 48,
   "metadata": {
    "colab": {
     "base_uri": "https://localhost:8080/"
    },
    "id": "iNORSUKylm4K",
    "outputId": "639b4a1d-1e54-4e2b-dcb0-af9591fe7d9b"
   },
   "outputs": [
    {
     "name": "stdout",
     "output_type": "stream",
     "text": [
      "I can pass with score: (100, 100, 100, 0) ? True\n",
      "I can pass with score: (50, 50, 70, 60) ? False\n"
     ]
    }
   ],
   "source": [
    "# functions\n",
    "\n",
    "def pass_dll(my_grades):\n",
    "    # grades: tuple or list.\n",
    "    grades = np.asarray(my_grades)\n",
    "    weights = np.array([0.15, 0.20, 0.25, 0.40])\n",
    "    if grades.dot(weights) >= 60:\n",
    "      return True\n",
    "    else:\n",
    "      return False \n",
    "\n",
    "scores = (100, 100, 100, 0)\n",
    "print(f\"I can pass with score: {scores} ? {pass_dll(scores)}\")\n",
    "\n",
    "scores = (50, 50, 70, 60)\n",
    "print(f\"I can pass with score: {scores} ? {pass_dll(scores)}\")\n"
   ]
  },
  {
   "cell_type": "code",
   "execution_count": 49,
   "metadata": {
    "colab": {
     "base_uri": "https://localhost:8080/"
    },
    "id": "mREImZyllvGa",
    "outputId": "c72ca228-4a4d-446f-9fd5-9593295faaf0"
   },
   "outputs": [
    {
     "name": "stdout",
     "output_type": "stream",
     "text": [
      "Introduction, compute resource.\n",
      "1\n",
      "PyTorch basics.\n"
     ]
    }
   ],
   "source": [
    "# python class\n",
    "\n",
    "class Exercise:\n",
    "\n",
    "    # constructor\n",
    "    def __init__(self, number, topic):\n",
    "        # number: int\n",
    "        # topic: string\n",
    "        self.number = number\n",
    "        self.topic = topic\n",
    "\n",
    "    # method\n",
    "    def get_topic(self):\n",
    "        print(self.topic)\n",
    "\n",
    "    def get_number(self):\n",
    "        print(self.number)\n",
    "\n",
    "ex01 = Exercise(1, \"Introduction, compute resource.\")\n",
    "ex01.get_topic()\n",
    "ex01.get_number()\n",
    "\n",
    "ex02 = Exercise(2, \"PyTorch basics.\")\n",
    "ex02.get_topic()"
   ]
  }
 ],
 "metadata": {
  "colab": {
   "collapsed_sections": [],
   "name": "Sept_24_2021_ex01_examples.ipynb",
   "provenance": []
  },
  "kernelspec": {
   "display_name": "Python 3 (ipykernel)",
   "language": "python",
   "name": "python3"
  },
  "language_info": {
   "codemirror_mode": {
    "name": "ipython",
    "version": 3
   },
   "file_extension": ".py",
   "mimetype": "text/x-python",
   "name": "python",
   "nbconvert_exporter": "python",
   "pygments_lexer": "ipython3",
   "version": "3.8.2"
  }
 },
 "nbformat": 4,
 "nbformat_minor": 2
}
